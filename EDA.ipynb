{
 "cells": [
  {
   "cell_type": "markdown",
   "metadata": {},
   "source": [
    "## CFN Problem Statement\n",
    "\n",
    "### Objectives\n",
    "\n",
    "1. Build prediction models to identify a new data vector causes churn rate.\n",
    "2. Identify key drivers to customer churn from the data provided.\n",
    "\n",
    "\n"
   ]
  },
  {
   "cell_type": "code",
   "execution_count": 4,
   "metadata": {
    "collapsed": false
   },
   "outputs": [
    {
     "name": "stdout",
     "output_type": "stream",
     "text": [
      "'data.frame':\t98618 obs. of  24 variables:\n",
      " $ V1                    : int  595616 513771 511892 941641 1003212 957393 566981 210796 295072 215212 ...\n",
      " $ asOfDate              : Factor w/ 37 levels \"01-05-2016\",\"03-01-2016\",..: 21 7 31 3 28 30 35 35 8 27 ...\n",
      " $ hits                  : int  0 0 0 1896 2745 262880 16 0 6350 0 ...\n",
      " $ prevhits              : int  0 0 3 1290 4714 268340 11 0 3632 0 ...\n",
      " $ currTickets           : int  0 0 4 0 0 0 0 0 0 0 ...\n",
      " $ prevTickets           : int  0 0 6 0 2 0 0 0 0 0 ...\n",
      " $ spamComplaints        : int  0 0 0 0 0 0 0 2 0 0 ...\n",
      " $ currLogins            : int  0 21 12 15 32 19 22 0 105 0 ...\n",
      " $ prevLogins            : int  0 25 54 25 3 40 5 3 33 0 ...\n",
      " $ broadcast4            : int  0 13 1 3 1 0 6 0 1 0 ...\n",
      " $ BroadCasts100_4weeks  : int  0 13 1 3 1 0 2 0 0 0 ...\n",
      " $ BroadCasts20_4weeks   : int  0 13 1 3 1 0 5 0 0 0 ...\n",
      " $ prevCamp10_4weeks     : int  0 0 2 0 0 0 0 0 0 0 ...\n",
      " $ Camp2_4weeks          : int  0 0 1 0 0 0 0 0 2 0 ...\n",
      " $ Camp100_4weeks        : int  0 0 0 0 0 0 0 0 0 0 ...\n",
      " $ Camp20_4weeks         : int  0 0 0 0 0 0 0 0 0 0 ...\n",
      " $ Contacts_4weeks       : int  0 0 5 36 42 14 11 4 123 0 ...\n",
      " $ ActiveDistinctContacts: int  0 36 17 3 NA 2 0 8 87 0 ...\n",
      " $ emailSent             : int  0 23914 1967 5687 470 6 680 10 190 0 ...\n",
      " $ Tasks                 : int  0 0 0 0 4 4 1 1 54 0 ...\n",
      " $ Tags                  : int  0 2 23 84 141 8 530 2 146 0 ...\n",
      " $ Opportunities         : int  0 0 0 0 0 4 0 0 0 0 ...\n",
      " $ WebForms              : int  0 0 17 3 59 8 0 4 0 0 ...\n",
      " $ status                : int  0 1 0 0 0 0 0 0 0 0 ...\n"
     ]
    }
   ],
   "source": [
    "setwd(\"~/Desktop/CFN_ps\")\n",
    "given_data <- read.csv(\"masterdata_dummy.csv\")\n",
    "str(given_data)\n",
    "\n",
    "#Setting a random seed for reproducibility\n",
    "set.seed(82)\n",
    "\n"
   ]
  },
  {
   "cell_type": "markdown",
   "metadata": {},
   "source": [
    "Inferences :\n",
    "\n",
    "24 Variables are present. The descriptions provided are as follows.\n",
    "\n",
    "\n",
    "\n",
    "| Variable               | Definition                                                                 |\n",
    "|------------------------|----------------------------------------------------------------------------|\n",
    "| v1                     | unique identifier                                                          |\n",
    "| asOfdate               | that day's date                                                            |\n",
    "| hits                   | Rolling 28 day API hits                                                    |\n",
    "| prevhits               | Prior rolling 28 day API hits                                              |\n",
    "| currTickets            | Rolling 28 day support tickets (data is there only until 12/31/2015)       |\n",
    "| prevTickets            | Prior rolling 28 day support tickets (data is there only until 12/31/2015) |\n",
    "| spamComplaints         | No. of spam compaints for an app                                           |\n",
    "| currLogins             | Rolling 28 day logins                                                      |\n",
    "| prevLogins             | Prior rolling 28 day logins                                                |\n",
    "| broadcast4             | last 4 weeks' email broadcasts                                             |\n",
    "| broadcast100_4weeks    | last 4 weeks' broadcasts having 100+ contacts                              |\n",
    "| broadcast20_4weeks     | last 4 weeks' broadcasts having 20+ contacts                               |\n",
    "| prevcamp10_4week       | last 4 weeks' campaigns having 10+ contacts                                |\n",
    "| camp2_4weeks           | last 4 weeks' campaigns published                                          |\n",
    "| camp100_4weeks         | last 4 weeks' campaigns having 100+ contacts                               |\n",
    "| camp20_4weeks          | last 4 weeks' campaigns having 20+ contacts                                |\n",
    "| contacts_4weeks        | last 4 weeks' total contacts in apps                                       |\n",
    "| ActiveDistinctContacts | rolling 30 days active contacts in campaigns                               |\n",
    "| emailSent              | totl emails sent that day                                                  |\n",
    "| Tasks                  | No. of Tasks created per app per day                                       |\n",
    "| Tags                   | No. of Tags applied per app per day                                        |\n",
    "| Opportunities          | No. of opportunities created per app per day                               |\n",
    "| webForms               | No. of Web forms submitted per app per day                                 |\n",
    "| status                 | 1: churned, 0: active                                                      |\n",
    "\n",
    "Primary key is \"id\"\n",
    "\n",
    "Target variable is \"status\"\n",
    "\n",
    "\n"
   ]
  },
  {
   "cell_type": "code",
   "execution_count": 5,
   "metadata": {
    "collapsed": false
   },
   "outputs": [
    {
     "data": {
      "text/plain": [
       "       V1             asOfDate             hits            prevhits      \n",
       " Min.   :      7   Min.   :1-05-20    Min.   :      0   Min.   :      0  \n",
       " 1st Qu.: 251828   1st Qu.:8-05-20    1st Qu.:      0   1st Qu.:      0  \n",
       " Median : 500682   Median :15-05-20   Median :     31   Median :     22  \n",
       " Mean   : 501817   Mean   :16-02-08   Mean   :  25153   Mean   :  25814  \n",
       " 3rd Qu.: 751604   3rd Qu.:24-01-20   3rd Qu.:   3789   3rd Qu.:   3713  \n",
       " Max.   :1004148   Max.   :31-07-20   Max.   :8507851   Max.   :9245065  "
      ]
     },
     "metadata": {},
     "output_type": "display_data"
    }
   ],
   "source": [
    "given_data$asOfDate <- as.Date(given_data$asOfDate)\n",
    "#Looking at the first 4 columns\n",
    "summary(given_data[,1:4])"
   ]
  },
  {
   "cell_type": "markdown",
   "metadata": {},
   "source": [
    "### Unique ID (V1)"
   ]
  },
  {
   "cell_type": "code",
   "execution_count": 6,
   "metadata": {
    "collapsed": false
   },
   "outputs": [
    {
     "data": {
      "text/html": [
       "94738"
      ],
      "text/latex": [
       "94738"
      ],
      "text/markdown": [
       "94738"
      ],
      "text/plain": [
       "[1] 94738"
      ]
     },
     "metadata": {},
     "output_type": "display_data"
    },
    {
     "data": {
      "text/html": [
       "<ol class=list-inline>\n",
       "\t<li>94738</li>\n",
       "\t<li>24</li>\n",
       "</ol>\n"
      ],
      "text/latex": [
       "\\begin{enumerate*}\n",
       "\\item 94738\n",
       "\\item 24\n",
       "\\end{enumerate*}\n"
      ],
      "text/markdown": [
       "1. 94738\n",
       "2. 24\n",
       "\n",
       "\n"
      ],
      "text/plain": [
       "[1] 94738    24"
      ]
     },
     "metadata": {},
     "output_type": "display_data"
    }
   ],
   "source": [
    "length(unique(given_data$V1))\n",
    "#Looks like there are duplicate rows. Unique ID is repeating.\n",
    "#Storing the duplicated rows for any future purposes\n",
    "dupes <- given_data[(duplicated(given_data$V1)),]\n",
    "\n",
    "#Remove the duplicates\n",
    "given_data <- unique(given_data)\n",
    "dim(given_data)\n"
   ]
  },
  {
   "cell_type": "markdown",
   "metadata": {
    "collapsed": true
   },
   "source": [
    "### Date (asofDate)\n",
    "Data dates range from May 1st 2016 to July 31st 2016"
   ]
  },
  {
   "cell_type": "code",
   "execution_count": 7,
   "metadata": {
    "collapsed": false
   },
   "outputs": [
    {
     "data": {
      "text/html": [
       "37"
      ],
      "text/latex": [
       "37"
      ],
      "text/markdown": [
       "37"
      ],
      "text/plain": [
       "[1] 37"
      ]
     },
     "metadata": {},
     "output_type": "display_data"
    },
    {
     "data": {
      "text/html": [
       "<table>\n",
       "<thead><tr><th></th><th scope=col>asOfDate</th><th scope=col>freq</th></tr></thead>\n",
       "<tbody>\n",
       "\t<tr><th scope=row>1</th><td>-713209</td><td>   2574</td></tr>\n",
       "\t<tr><th scope=row>2</th><td>-717258</td><td>   2583</td></tr>\n",
       "\t<tr><th scope=row>3</th><td>-709861</td><td>   2562</td></tr>\n",
       "\t<tr><th scope=row>4</th><td>-718323</td><td>   2518</td></tr>\n",
       "\t<tr><th scope=row>5</th><td>-710743</td><td>   2598</td></tr>\n",
       "\t<tr><th scope=row>6</th><td>-710561</td><td>   2588</td></tr>\n",
       "\t<tr><th scope=row>7</th><td>-708796</td><td>   2609</td></tr>\n",
       "\t<tr><th scope=row>8</th><td>-716921</td><td>   2558</td></tr>\n",
       "\t<tr><th scope=row>9</th><td>-711353</td><td>   2551</td></tr>\n",
       "\t<tr><th scope=row>10</th><td>-719023</td><td>   2543</td></tr>\n",
       "\t<tr><th scope=row>11</th><td>-712691</td><td>   2522</td></tr>\n",
       "\t<tr><th scope=row>12</th><td>-711626</td><td>   2567</td></tr>\n",
       "\t<tr><th scope=row>13</th><td>-718413</td><td>   2500</td></tr>\n",
       "\t<tr><th scope=row>14</th><td>-709251</td><td>   2572</td></tr>\n",
       "\t<tr><th scope=row>15</th><td>-709588</td><td>   2597</td></tr>\n",
       "\t<tr><th scope=row>16</th><td>-715248</td><td>   2605</td></tr>\n",
       "\t<tr><th scope=row>17</th><td>-715766</td><td>   2528</td></tr>\n",
       "\t<tr><th scope=row>18</th><td>-713910</td><td>   2502</td></tr>\n",
       "\t<tr><th scope=row>19</th><td>-712144</td><td>   2616</td></tr>\n",
       "\t<tr><th scope=row>20</th><td>-717531</td><td>   2564</td></tr>\n",
       "\t<tr><th scope=row>21</th><td>-717804</td><td>   2553</td></tr>\n",
       "\t<tr><th scope=row>22</th><td>-714974</td><td>   2489</td></tr>\n",
       "\t<tr><th scope=row>23</th><td>-714701</td><td>   2515</td></tr>\n",
       "\t<tr><th scope=row>24</th><td>-708186</td><td>   2500</td></tr>\n",
       "\t<tr><th scope=row>25</th><td>-713118</td><td>   2573</td></tr>\n",
       "\t<tr><th scope=row>26</th><td>-714364</td><td>   2501</td></tr>\n",
       "\t<tr><th scope=row>27</th><td>-718232</td><td>   2578</td></tr>\n",
       "\t<tr><th scope=row>28</th><td>-709069</td><td>   2644</td></tr>\n",
       "\t<tr><th scope=row>29</th><td>-710652</td><td>   2630</td></tr>\n",
       "\t<tr><th scope=row>30</th><td>-713299</td><td>   2582</td></tr>\n",
       "\t<tr><th scope=row>31</th><td>-708005</td><td>   2511</td></tr>\n",
       "\t<tr><th scope=row>32</th><td>-714183</td><td>   2583</td></tr>\n",
       "\t<tr><th scope=row>33</th><td>-715675</td><td>   2580</td></tr>\n",
       "\t<tr><th scope=row>34</th><td>-715856</td><td>   2537</td></tr>\n",
       "\t<tr><th scope=row>35</th><td>-716466</td><td>   2575</td></tr>\n",
       "\t<tr><th scope=row>36</th><td>-716740</td><td>   2575</td></tr>\n",
       "\t<tr><th scope=row>37</th><td>-711807</td><td>   2555</td></tr>\n",
       "</tbody>\n",
       "</table>\n"
      ],
      "text/latex": [
       "\\begin{tabular}{r|ll}\n",
       "  & asOfDate & freq\\\\\n",
       "\\hline\n",
       "\t1 & -713209 &    2574\\\\\n",
       "\t2 & -717258 &    2583\\\\\n",
       "\t3 & -709861 &    2562\\\\\n",
       "\t4 & -718323 &    2518\\\\\n",
       "\t5 & -710743 &    2598\\\\\n",
       "\t6 & -710561 &    2588\\\\\n",
       "\t7 & -708796 &    2609\\\\\n",
       "\t8 & -716921 &    2558\\\\\n",
       "\t9 & -711353 &    2551\\\\\n",
       "\t10 & -719023 &    2543\\\\\n",
       "\t11 & -712691 &    2522\\\\\n",
       "\t12 & -711626 &    2567\\\\\n",
       "\t13 & -718413 &    2500\\\\\n",
       "\t14 & -709251 &    2572\\\\\n",
       "\t15 & -709588 &    2597\\\\\n",
       "\t16 & -715248 &    2605\\\\\n",
       "\t17 & -715766 &    2528\\\\\n",
       "\t18 & -713910 &    2502\\\\\n",
       "\t19 & -712144 &    2616\\\\\n",
       "\t20 & -717531 &    2564\\\\\n",
       "\t21 & -717804 &    2553\\\\\n",
       "\t22 & -714974 &    2489\\\\\n",
       "\t23 & -714701 &    2515\\\\\n",
       "\t24 & -708186 &    2500\\\\\n",
       "\t25 & -713118 &    2573\\\\\n",
       "\t26 & -714364 &    2501\\\\\n",
       "\t27 & -718232 &    2578\\\\\n",
       "\t28 & -709069 &    2644\\\\\n",
       "\t29 & -710652 &    2630\\\\\n",
       "\t30 & -713299 &    2582\\\\\n",
       "\t31 & -708005 &    2511\\\\\n",
       "\t32 & -714183 &    2583\\\\\n",
       "\t33 & -715675 &    2580\\\\\n",
       "\t34 & -715856 &    2537\\\\\n",
       "\t35 & -716466 &    2575\\\\\n",
       "\t36 & -716740 &    2575\\\\\n",
       "\t37 & -711807 &    2555\\\\\n",
       "\\end{tabular}\n"
      ],
      "text/plain": [
       "   asOfDate freq\n",
       "1  17-04-20 2574\n",
       "2   6-03-20 2583\n",
       "3  26-06-20 2562\n",
       "4   3-04-20 2518\n",
       "5  24-01-20 2598\n",
       "6  24-07-20 2588\n",
       "7  29-05-20 2609\n",
       "8   7-02-20 2558\n",
       "9  22-05-20 2551\n",
       "10  1-05-20 2543\n",
       "11 18-09-20 2522\n",
       "12 21-08-20 2567\n",
       "13  3-01-20 2500\n",
       "14 28-02-20 2572\n",
       "15 27-03-20 2597\n",
       "16 11-09-20 2605\n",
       "17 10-04-20 2528\n",
       "18 15-05-20 2502\n",
       "19 20-03-20 2616\n",
       "20  5-06-20 2564\n",
       "21  4-09-20 2553\n",
       "22 12-06-20 2489\n",
       "23 13-03-20 2515\n",
       "24 31-01-20 2500\n",
       "25 17-07-20 2573\n",
       "26 14-02-20 2501\n",
       "27  3-07-20 2578\n",
       "28 28-08-20 2644\n",
       "29 24-04-20 2630\n",
       "30 17-01-20 2582\n",
       "31 31-07-20 2511\n",
       "32 14-08-20 2583\n",
       "33 10-07-20 2580\n",
       "34 10-01-20 2537\n",
       "35  8-05-20 2575\n",
       "36  7-08-20 2575\n",
       "37 21-02-20 2555"
      ]
     },
     "metadata": {},
     "output_type": "display_data"
    }
   ],
   "source": [
    "#Find the number of unique dates\n",
    "length(unique(given_data$asOfDate))\n",
    "#To find the frequency, check the frequency of each date\n",
    "library(data.table)\n",
    "uni_dates <- data.table(given_data)[,list(freq = .N),by = asOfDate]\n",
    "uni_dates"
   ]
  },
  {
   "cell_type": "markdown",
   "metadata": {},
   "source": [
    "* So, there are only 37 dates in the whole data set \n",
    "* Each date has close to 2600 entries\n",
    "* One hypothesis that can be made here is that the data set is a snapshot at each of these dates from ~2600 users\n",
    "* The difference in frequency could be due to churn and addition"
   ]
  },
  {
   "cell_type": "markdown",
   "metadata": {},
   "source": [
    "### Hits and PrevHits\n",
    "\n",
    "* Median is 30 and mean is 24966\n",
    "* Shows that there is high variability. Take care of outliers\n"
   ]
  },
  {
   "cell_type": "code",
   "execution_count": 8,
   "metadata": {
    "collapsed": false
   },
   "outputs": [
    {
     "data": {
      "text/html": [
       "0.903929044757279"
      ],
      "text/latex": [
       "0.903929044757279"
      ],
      "text/markdown": [
       "0.903929044757279"
      ],
      "text/plain": [
       "[1] 0.903929"
      ]
     },
     "metadata": {},
     "output_type": "display_data"
    },
    {
     "ename": "ERROR",
     "evalue": "Error in grDevices::replayPlot(obj): X11 font -adobe-helvetica-%s-%s-*-*-%d-*-*-*-*-*-*-*, face 2 at size 14 could not be loaded\n",
     "output_type": "error",
     "traceback": [
      "Error in grDevices::replayPlot(obj): X11 font -adobe-helvetica-%s-%s-*-*-%d-*-*-*-*-*-*-*, face 2 at size 14 could not be loaded\nTraceback:\n"
     ]
    },
    {
     "data": {
      "text/plain": [
       "Plot with title “Histogram of log10(hits)”"
      ]
     },
     "metadata": {},
     "output_type": "display_data"
    }
   ],
   "source": [
    "#Hits and PrevHits seems to follow the same pattern. Makes sense as it's a rolling count. (Only one value changes)\n",
    "#Might be good to create a feature later as to whether the hits increased or decreased in the last cycle\n",
    "cor(given_data$hits,given_data$prevhits)\n",
    "\n",
    "#Histogram plots\n",
    "hist(log10(given_data$hits),breaks = 100, main = \"Histogram of log10(hits)\")"
   ]
  },
  {
   "cell_type": "code",
   "execution_count": 9,
   "metadata": {
    "collapsed": false
   },
   "outputs": [
    {
     "data": {
      "text/plain": [
       "  currTickets        prevTickets      spamComplaints       currLogins      \n",
       " Min.   :  0.0000   Min.   :  0.000   Min.   :   0.000   Min.   :    0.00  \n",
       " 1st Qu.:  0.0000   1st Qu.:  0.000   1st Qu.:   0.000   1st Qu.:    1.00  \n",
       " Median :  0.0000   Median :  0.000   Median :   0.000   Median :   11.00  \n",
       " Mean   :  0.6101   Mean   :  0.685   Mean   :   4.187   Mean   :   56.46  \n",
       " 3rd Qu.:  0.0000   3rd Qu.:  0.000   3rd Qu.:   0.000   3rd Qu.:   52.00  \n",
       " Max.   :106.0000   Max.   :133.000   Max.   :1704.000   Max.   :13646.00  \n",
       "   prevLogins      \n",
       " Min.   :    0.00  \n",
       " 1st Qu.:    0.00  \n",
       " Median :   11.00  \n",
       " Mean   :   55.89  \n",
       " 3rd Qu.:   52.00  \n",
       " Max.   :17862.00  "
      ]
     },
     "metadata": {},
     "output_type": "display_data"
    }
   ],
   "source": [
    "summary(given_data[,5:9])"
   ]
  },
  {
   "cell_type": "code",
   "execution_count": 10,
   "metadata": {
    "collapsed": false
   },
   "outputs": [
    {
     "data": {
      "text/html": [
       "0.825527609671695"
      ],
      "text/latex": [
       "0.825527609671695"
      ],
      "text/markdown": [
       "0.825527609671695"
      ],
      "text/plain": [
       "[1] 0.8255276"
      ]
     },
     "metadata": {},
     "output_type": "display_data"
    },
    {
     "ename": "ERROR",
     "evalue": "Error in given_data$currTickets[given_data$currTickets > 20, ]: incorrect number of dimensions\n",
     "output_type": "error",
     "traceback": [
      "Error in given_data$currTickets[given_data$currTickets > 20, ]: incorrect number of dimensions\nTraceback:\n",
      "1. hist(given_data$currTickets[given_data$currTickets > 20, ], breaks = 10)"
     ]
    },
    {
     "ename": "ERROR",
     "evalue": "Error in grDevices::replayPlot(obj): X11 font -adobe-helvetica-%s-%s-*-*-%d-*-*-*-*-*-*-*, face 2 at size 14 could not be loaded\n",
     "output_type": "error",
     "traceback": [
      "Error in grDevices::replayPlot(obj): X11 font -adobe-helvetica-%s-%s-*-*-%d-*-*-*-*-*-*-*, face 2 at size 14 could not be loaded\nTraceback:\n"
     ]
    },
    {
     "data": {
      "text/plain": [
       "Plot with title “Histogram of given_data$currTickets”"
      ]
     },
     "metadata": {},
     "output_type": "display_data"
    }
   ],
   "source": [
    "hist(given_data$currTickets)\n",
    "cor(given_data$currTickets,given_data$prevTickets)\n",
    "\n",
    "#Histogram of tail of the currTicket\n",
    "hist(given_data$currTickets[given_data$currTickets > 20,],breaks = 10)"
   ]
  },
  {
   "cell_type": "markdown",
   "metadata": {},
   "source": [
    "### currTickets and prevTickets\n",
    "1. currTickets\n",
    "* Median of 0 shows that there are lot of 0 values.\n",
    "* Low mean and high \"max\" value shows there are some outliers.\n",
    "* Histogram indicates that almost all values lie in the 0-10 bin\n",
    "2. prevTickets \n",
    "* prevTickets follows the same distribution as currTickets\n",
    "* High correlation\n",
    "* Change in number of tickets could be a feature.\n"
   ]
  },
  {
   "cell_type": "code",
   "execution_count": 11,
   "metadata": {
    "collapsed": false
   },
   "outputs": [
    {
     "data": {
      "text/plain": [
       "   broadcast4       BroadCasts100_4weeks BroadCasts20_4weeks prevCamp10_4weeks \n",
       " Min.   :   0.000   Min.   :  0.00       Min.   :  0.000     Min.   :  0.0000  \n",
       " 1st Qu.:   0.000   1st Qu.:  0.00       1st Qu.:  0.000     1st Qu.:  0.0000  \n",
       " Median :   0.000   Median :  0.00       Median :  0.000     Median :  0.0000  \n",
       " Mean   :   2.927   Mean   :  1.93       Mean   :  2.356     Mean   :  0.3798  \n",
       " 3rd Qu.:   2.000   3rd Qu.:  1.00       3rd Qu.:  1.000     3rd Qu.:  0.0000  \n",
       " Max.   :1172.000   Max.   :599.00       Max.   :646.000     Max.   :202.0000  \n",
       "  Camp2_4weeks    \n",
       " Min.   :  0.000  \n",
       " 1st Qu.:  0.000  \n",
       " Median :  0.000  \n",
       " Mean   :  0.561  \n",
       " 3rd Qu.:  0.000  \n",
       " Max.   :380.000  "
      ]
     },
     "metadata": {},
     "output_type": "display_data"
    }
   ],
   "source": [
    "summary(given_data[,10:14])"
   ]
  },
  {
   "cell_type": "code",
   "execution_count": 12,
   "metadata": {
    "collapsed": false
   },
   "outputs": [
    {
     "data": {
      "text/plain": [
       " Camp100_4weeks     Camp20_4weeks      Contacts_4weeks   \n",
       " Min.   :  0.0000   Min.   :  0.0000   Min.   :     0.0  \n",
       " 1st Qu.:  0.0000   1st Qu.:  0.0000   1st Qu.:     0.0  \n",
       " Median :  0.0000   Median :  0.0000   Median :    11.0  \n",
       " Mean   :  0.2318   Mean   :  0.3346   Mean   :   594.6  \n",
       " 3rd Qu.:  0.0000   3rd Qu.:  0.0000   3rd Qu.:    95.0  \n",
       " Max.   :202.0000   Max.   :202.0000   Max.   :979315.0  "
      ]
     },
     "metadata": {},
     "output_type": "display_data"
    }
   ],
   "source": [
    "summary(given_data[,15:17])"
   ]
  },
  {
   "cell_type": "code",
   "execution_count": 13,
   "metadata": {
    "collapsed": false
   },
   "outputs": [
    {
     "data": {
      "text/plain": [
       " ActiveDistinctContacts   emailSent           Tasks               Tags        \n",
       " Min.   :     0         Min.   :      0   Min.   :     0.0   Min.   :      0  \n",
       " 1st Qu.:     0         1st Qu.:      0   1st Qu.:     0.0   1st Qu.:      0  \n",
       " Median :    12         Median :     61   Median :     0.0   Median :     22  \n",
       " Mean   :  2230         Mean   :  27765   Mean   :   260.9   Mean   :   5925  \n",
       " 3rd Qu.:   302         3rd Qu.:   2378   3rd Qu.:    22.0   3rd Qu.:    441  \n",
       " Max.   :893602         Max.   :8126125   Max.   :406874.0   Max.   :9395961  \n",
       " NA's   :4149           NA's   :445       NA's   :445        NA's   :445      \n",
       " Opportunities         WebForms       \n",
       " Min.   :    0.00   Min.   :     0.0  \n",
       " 1st Qu.:    0.00   1st Qu.:     0.0  \n",
       " Median :    0.00   Median :     2.0  \n",
       " Mean   :   17.08   Mean   :   314.1  \n",
       " 3rd Qu.:    0.00   3rd Qu.:    40.0  \n",
       " Max.   :36741.00   Max.   :270739.0  \n",
       " NA's   :445        NA's   :445       "
      ]
     },
     "metadata": {},
     "output_type": "display_data"
    }
   ],
   "source": [
    "summary(given_data[,18:23])"
   ]
  },
  {
   "cell_type": "markdown",
   "metadata": {},
   "source": [
    "There seems to be 445 NA's in the last 5 variables provided. This could be the same rows. Will check that."
   ]
  },
  {
   "cell_type": "code",
   "execution_count": 19,
   "metadata": {
    "collapsed": false
   },
   "outputs": [
    {
     "data": {
      "text/html": [
       "<table>\n",
       "<thead><tr><th></th><th scope=col>V1</th><th scope=col>asOfDate</th><th scope=col>emailSent</th><th scope=col>Tasks</th><th scope=col>Tags</th><th scope=col>Opportunities</th><th scope=col>WebForms</th><th scope=col>status</th></tr></thead>\n",
       "<tbody>\n",
       "\t<tr><th scope=row>54</th><td>325538  </td><td>28-02-20</td><td>NA      </td><td>NA      </td><td>NA      </td><td>NA      </td><td>NA      </td><td>0       </td></tr>\n",
       "\t<tr><th scope=row>132</th><td>401698  </td><td>11-09-20</td><td>NA      </td><td>NA      </td><td>NA      </td><td>NA      </td><td>NA      </td><td>0       </td></tr>\n",
       "\t<tr><th scope=row>519</th><td>902829  </td><td>18-09-20</td><td>NA      </td><td>NA      </td><td>NA      </td><td>NA      </td><td>NA      </td><td>0       </td></tr>\n",
       "\t<tr><th scope=row>789</th><td>215976  </td><td>18-09-20</td><td>NA      </td><td>NA      </td><td>NA      </td><td>NA      </td><td>NA      </td><td>0       </td></tr>\n",
       "\t<tr><th scope=row>858</th><td>877814 </td><td>3-07-20</td><td>NA     </td><td>NA     </td><td>NA     </td><td>NA     </td><td>NA     </td><td>1      </td></tr>\n",
       "\t<tr><th scope=row>1346</th><td>683498  </td><td>17-04-20</td><td>NA      </td><td>NA      </td><td>NA      </td><td>NA      </td><td>NA      </td><td>1       </td></tr>\n",
       "\t<tr><th scope=row>1571</th><td>873399  </td><td>13-03-20</td><td>NA      </td><td>NA      </td><td>NA      </td><td>NA      </td><td>NA      </td><td>1       </td></tr>\n",
       "\t<tr><th scope=row>2115</th><td>882398  </td><td>11-09-20</td><td>NA      </td><td>NA      </td><td>NA      </td><td>NA      </td><td>NA      </td><td>1       </td></tr>\n",
       "\t<tr><th scope=row>3079</th><td>240326  </td><td>14-02-20</td><td>NA      </td><td>NA      </td><td>NA      </td><td>NA      </td><td>NA      </td><td>1       </td></tr>\n",
       "\t<tr><th scope=row>3201</th><td>770582 </td><td>4-09-20</td><td>NA     </td><td>NA     </td><td>NA     </td><td>NA     </td><td>NA     </td><td>0      </td></tr>\n",
       "\t<tr><th scope=row>3474</th><td>792316 </td><td>5-06-20</td><td>NA     </td><td>NA     </td><td>NA     </td><td>NA     </td><td>NA     </td><td>1      </td></tr>\n",
       "\t<tr><th scope=row>3491</th><td>803941 </td><td>4-09-20</td><td>NA     </td><td>NA     </td><td>NA     </td><td>NA     </td><td>NA     </td><td>0      </td></tr>\n",
       "\t<tr><th scope=row>3677</th><td>972884  </td><td>14-02-20</td><td>NA      </td><td>NA      </td><td>NA      </td><td>NA      </td><td>NA      </td><td>1       </td></tr>\n",
       "\t<tr><th scope=row>3908</th><td>969562 </td><td>4-09-20</td><td>NA     </td><td>NA     </td><td>NA     </td><td>NA     </td><td>NA     </td><td>0      </td></tr>\n",
       "\t<tr><th scope=row>4921</th><td>930259  </td><td>28-02-20</td><td>NA      </td><td>NA      </td><td>NA      </td><td>NA      </td><td>NA      </td><td>1       </td></tr>\n",
       "\t<tr><th scope=row>5007</th><td>124396  </td><td>18-09-20</td><td>NA      </td><td>NA      </td><td>NA      </td><td>NA      </td><td>NA      </td><td>0       </td></tr>\n",
       "\t<tr><th scope=row>5383</th><td>891005 </td><td>4-09-20</td><td>NA     </td><td>NA     </td><td>NA     </td><td>NA     </td><td>NA     </td><td>0      </td></tr>\n",
       "\t<tr><th scope=row>5469</th><td>298432  </td><td>18-09-20</td><td>NA      </td><td>NA      </td><td>NA      </td><td>NA      </td><td>NA      </td><td>0       </td></tr>\n",
       "\t<tr><th scope=row>5643</th><td>600894 </td><td>4-09-20</td><td>NA     </td><td>NA     </td><td>NA     </td><td>NA     </td><td>NA     </td><td>0      </td></tr>\n",
       "\t<tr><th scope=row>5832</th><td>147394  </td><td>18-09-20</td><td>NA      </td><td>NA      </td><td>NA      </td><td>NA      </td><td>NA      </td><td>0       </td></tr>\n",
       "\t<tr><th scope=row>5878</th><td>942029  </td><td>24-07-20</td><td>NA      </td><td>NA      </td><td>NA      </td><td>NA      </td><td>NA      </td><td>1       </td></tr>\n",
       "\t<tr><th scope=row>6422</th><td>386312  </td><td>10-07-20</td><td>NA      </td><td>NA      </td><td>NA      </td><td>NA      </td><td>NA      </td><td>0       </td></tr>\n",
       "\t<tr><th scope=row>6494</th><td>543425  </td><td>31-07-20</td><td>NA      </td><td>NA      </td><td>NA      </td><td>NA      </td><td>NA      </td><td>1       </td></tr>\n",
       "\t<tr><th scope=row>6599</th><td>710896  </td><td>18-09-20</td><td>NA      </td><td>NA      </td><td>NA      </td><td>NA      </td><td>NA      </td><td>1       </td></tr>\n",
       "\t<tr><th scope=row>6740</th><td>316571 </td><td>8-05-20</td><td>NA     </td><td>NA     </td><td>NA     </td><td>NA     </td><td>NA     </td><td>1      </td></tr>\n",
       "\t<tr><th scope=row>6939</th><td>824594 </td><td>6-03-20</td><td>NA     </td><td>NA     </td><td>NA     </td><td>NA     </td><td>NA     </td><td>1      </td></tr>\n",
       "\t<tr><th scope=row>7364</th><td>64675   </td><td>13-03-20</td><td>NA      </td><td>NA      </td><td>NA      </td><td>NA      </td><td>NA      </td><td>1       </td></tr>\n",
       "\t<tr><th scope=row>7829</th><td>416199 </td><td>5-06-20</td><td>NA     </td><td>NA     </td><td>NA     </td><td>NA     </td><td>NA     </td><td>1      </td></tr>\n",
       "\t<tr><th scope=row>8801</th><td>890961  </td><td>24-04-20</td><td>NA      </td><td>NA      </td><td>NA      </td><td>NA      </td><td>NA      </td><td>0       </td></tr>\n",
       "\t<tr><th scope=row>8820</th><td>893415  </td><td>18-09-20</td><td>NA      </td><td>NA      </td><td>NA      </td><td>NA      </td><td>NA      </td><td>0       </td></tr>\n",
       "\t<tr><th scope=row>⋮</th><td>⋮</td><td>⋮</td><td>⋮</td><td>⋮</td><td>⋮</td><td>⋮</td><td>⋮</td><td>⋮</td></tr>\n",
       "\t<tr><th scope=row>92525</th><td>857779  </td><td>28-02-20</td><td>NA      </td><td>NA      </td><td>NA      </td><td>NA      </td><td>NA      </td><td>1       </td></tr>\n",
       "\t<tr><th scope=row>92852</th><td>551931  </td><td>21-08-20</td><td>NA      </td><td>NA      </td><td>NA      </td><td>NA      </td><td>NA      </td><td>1       </td></tr>\n",
       "\t<tr><th scope=row>92972</th><td>180143  </td><td>11-09-20</td><td>NA      </td><td>NA      </td><td>NA      </td><td>NA      </td><td>NA      </td><td>1       </td></tr>\n",
       "\t<tr><th scope=row>93306</th><td>24104   </td><td>27-03-20</td><td>NA      </td><td>NA      </td><td>NA      </td><td>NA      </td><td>NA      </td><td>0       </td></tr>\n",
       "\t<tr><th scope=row>93738</th><td>224896  </td><td>18-09-20</td><td>NA      </td><td>NA      </td><td>NA      </td><td>NA      </td><td>NA      </td><td>0       </td></tr>\n",
       "\t<tr><th scope=row>94035</th><td>579786  </td><td>18-09-20</td><td>NA      </td><td>NA      </td><td>NA      </td><td>NA      </td><td>NA      </td><td>0       </td></tr>\n",
       "\t<tr><th scope=row>94087</th><td>654102 </td><td>4-09-20</td><td>NA     </td><td>NA     </td><td>NA     </td><td>NA     </td><td>NA     </td><td>1      </td></tr>\n",
       "\t<tr><th scope=row>94578</th><td>347776  </td><td>28-08-20</td><td>NA      </td><td>NA      </td><td>NA      </td><td>NA      </td><td>NA      </td><td>0       </td></tr>\n",
       "\t<tr><th scope=row>94589</th><td>883908  </td><td>11-09-20</td><td>NA      </td><td>NA      </td><td>NA      </td><td>NA      </td><td>NA      </td><td>0       </td></tr>\n",
       "\t<tr><th scope=row>94613</th><td>493035 </td><td>4-09-20</td><td>NA     </td><td>NA     </td><td>NA     </td><td>NA     </td><td>NA     </td><td>0      </td></tr>\n",
       "\t<tr><th scope=row>94986</th><td>69924   </td><td>28-08-20</td><td>NA      </td><td>NA      </td><td>NA      </td><td>NA      </td><td>NA      </td><td>0       </td></tr>\n",
       "\t<tr><th scope=row>95579</th><td>808570 </td><td>4-09-20</td><td>NA     </td><td>NA     </td><td>NA     </td><td>NA     </td><td>NA     </td><td>0      </td></tr>\n",
       "\t<tr><th scope=row>95805</th><td>558381  </td><td>24-01-20</td><td>NA      </td><td>NA      </td><td>NA      </td><td>NA      </td><td>NA      </td><td>1       </td></tr>\n",
       "\t<tr><th scope=row>96376</th><td>810143  </td><td>11-09-20</td><td>NA      </td><td>NA      </td><td>NA      </td><td>NA      </td><td>NA      </td><td>1       </td></tr>\n",
       "\t<tr><th scope=row>96533</th><td>928548  </td><td>11-09-20</td><td>NA      </td><td>NA      </td><td>NA      </td><td>NA      </td><td>NA      </td><td>0       </td></tr>\n",
       "\t<tr><th scope=row>96552</th><td>205493  </td><td>29-05-20</td><td>NA      </td><td>NA      </td><td>NA      </td><td>NA      </td><td>NA      </td><td>1       </td></tr>\n",
       "\t<tr><th scope=row>96623</th><td>316574  </td><td>29-05-20</td><td>NA      </td><td>NA      </td><td>NA      </td><td>NA      </td><td>NA      </td><td>0       </td></tr>\n",
       "\t<tr><th scope=row>96660</th><td>205492  </td><td>22-05-20</td><td>NA      </td><td>NA      </td><td>NA      </td><td>NA      </td><td>NA      </td><td>0       </td></tr>\n",
       "\t<tr><th scope=row>96916</th><td>898495  </td><td>18-09-20</td><td>NA      </td><td>NA      </td><td>NA      </td><td>NA      </td><td>NA      </td><td>0       </td></tr>\n",
       "\t<tr><th scope=row>97177</th><td>133420 </td><td>4-09-20</td><td>NA     </td><td>NA     </td><td>NA     </td><td>NA     </td><td>NA     </td><td>0      </td></tr>\n",
       "\t<tr><th scope=row>97386</th><td>586772  </td><td>11-09-20</td><td>NA      </td><td>NA      </td><td>NA      </td><td>NA      </td><td>NA      </td><td>0       </td></tr>\n",
       "\t<tr><th scope=row>97433</th><td>856520  </td><td>18-09-20</td><td>NA      </td><td>NA      </td><td>NA      </td><td>NA      </td><td>NA      </td><td>1       </td></tr>\n",
       "\t<tr><th scope=row>97856</th><td>958028  </td><td>21-08-20</td><td>NA      </td><td>NA      </td><td>NA      </td><td>NA      </td><td>NA      </td><td>1       </td></tr>\n",
       "\t<tr><th scope=row>98113</th><td>983417 </td><td>4-09-20</td><td>NA     </td><td>NA     </td><td>NA     </td><td>NA     </td><td>NA     </td><td>0      </td></tr>\n",
       "\t<tr><th scope=row>98154</th><td>540399 </td><td>4-09-20</td><td>NA     </td><td>NA     </td><td>NA     </td><td>NA     </td><td>NA     </td><td>0      </td></tr>\n",
       "\t<tr><th scope=row>98183</th><td>799487  </td><td>18-09-20</td><td>NA      </td><td>NA      </td><td>NA      </td><td>NA      </td><td>NA      </td><td>0       </td></tr>\n",
       "\t<tr><th scope=row>98232</th><td>904032  </td><td>18-09-20</td><td>NA      </td><td>NA      </td><td>NA      </td><td>NA      </td><td>NA      </td><td>0       </td></tr>\n",
       "\t<tr><th scope=row>98261</th><td>690594 </td><td>3-01-20</td><td>NA     </td><td>NA     </td><td>NA     </td><td>NA     </td><td>NA     </td><td>0      </td></tr>\n",
       "\t<tr><th scope=row>98516</th><td>166656  </td><td>13-03-20</td><td>NA      </td><td>NA      </td><td>NA      </td><td>NA      </td><td>NA      </td><td>1       </td></tr>\n",
       "\t<tr><th scope=row>98573</th><td>64676   </td><td>20-03-20</td><td>NA      </td><td>NA      </td><td>NA      </td><td>NA      </td><td>NA      </td><td>0       </td></tr>\n",
       "</tbody>\n",
       "</table>\n"
      ],
      "text/latex": [
       "\\begin{tabular}{r|llllllll}\n",
       "  & V1 & asOfDate & emailSent & Tasks & Tags & Opportunities & WebForms & status\\\\\n",
       "\\hline\n",
       "\t54 & 325538   & 28-02-20 & NA       & NA       & NA       & NA       & NA       & 0       \\\\\n",
       "\t132 & 401698   & 11-09-20 & NA       & NA       & NA       & NA       & NA       & 0       \\\\\n",
       "\t519 & 902829   & 18-09-20 & NA       & NA       & NA       & NA       & NA       & 0       \\\\\n",
       "\t789 & 215976   & 18-09-20 & NA       & NA       & NA       & NA       & NA       & 0       \\\\\n",
       "\t858 & 877814  & 3-07-20 & NA      & NA      & NA      & NA      & NA      & 1      \\\\\n",
       "\t1346 & 683498   & 17-04-20 & NA       & NA       & NA       & NA       & NA       & 1       \\\\\n",
       "\t1571 & 873399   & 13-03-20 & NA       & NA       & NA       & NA       & NA       & 1       \\\\\n",
       "\t2115 & 882398   & 11-09-20 & NA       & NA       & NA       & NA       & NA       & 1       \\\\\n",
       "\t3079 & 240326   & 14-02-20 & NA       & NA       & NA       & NA       & NA       & 1       \\\\\n",
       "\t3201 & 770582  & 4-09-20 & NA      & NA      & NA      & NA      & NA      & 0      \\\\\n",
       "\t3474 & 792316  & 5-06-20 & NA      & NA      & NA      & NA      & NA      & 1      \\\\\n",
       "\t3491 & 803941  & 4-09-20 & NA      & NA      & NA      & NA      & NA      & 0      \\\\\n",
       "\t3677 & 972884   & 14-02-20 & NA       & NA       & NA       & NA       & NA       & 1       \\\\\n",
       "\t3908 & 969562  & 4-09-20 & NA      & NA      & NA      & NA      & NA      & 0      \\\\\n",
       "\t4921 & 930259   & 28-02-20 & NA       & NA       & NA       & NA       & NA       & 1       \\\\\n",
       "\t5007 & 124396   & 18-09-20 & NA       & NA       & NA       & NA       & NA       & 0       \\\\\n",
       "\t5383 & 891005  & 4-09-20 & NA      & NA      & NA      & NA      & NA      & 0      \\\\\n",
       "\t5469 & 298432   & 18-09-20 & NA       & NA       & NA       & NA       & NA       & 0       \\\\\n",
       "\t5643 & 600894  & 4-09-20 & NA      & NA      & NA      & NA      & NA      & 0      \\\\\n",
       "\t5832 & 147394   & 18-09-20 & NA       & NA       & NA       & NA       & NA       & 0       \\\\\n",
       "\t5878 & 942029   & 24-07-20 & NA       & NA       & NA       & NA       & NA       & 1       \\\\\n",
       "\t6422 & 386312   & 10-07-20 & NA       & NA       & NA       & NA       & NA       & 0       \\\\\n",
       "\t6494 & 543425   & 31-07-20 & NA       & NA       & NA       & NA       & NA       & 1       \\\\\n",
       "\t6599 & 710896   & 18-09-20 & NA       & NA       & NA       & NA       & NA       & 1       \\\\\n",
       "\t6740 & 316571  & 8-05-20 & NA      & NA      & NA      & NA      & NA      & 1      \\\\\n",
       "\t6939 & 824594  & 6-03-20 & NA      & NA      & NA      & NA      & NA      & 1      \\\\\n",
       "\t7364 & 64675    & 13-03-20 & NA       & NA       & NA       & NA       & NA       & 1       \\\\\n",
       "\t7829 & 416199  & 5-06-20 & NA      & NA      & NA      & NA      & NA      & 1      \\\\\n",
       "\t8801 & 890961   & 24-04-20 & NA       & NA       & NA       & NA       & NA       & 0       \\\\\n",
       "\t8820 & 893415   & 18-09-20 & NA       & NA       & NA       & NA       & NA       & 0       \\\\\n",
       "\t⋮ & ⋮ & ⋮ & ⋮ & ⋮ & ⋮ & ⋮ & ⋮ & ⋮\\\\\n",
       "\t92525 & 857779   & 28-02-20 & NA       & NA       & NA       & NA       & NA       & 1       \\\\\n",
       "\t92852 & 551931   & 21-08-20 & NA       & NA       & NA       & NA       & NA       & 1       \\\\\n",
       "\t92972 & 180143   & 11-09-20 & NA       & NA       & NA       & NA       & NA       & 1       \\\\\n",
       "\t93306 & 24104    & 27-03-20 & NA       & NA       & NA       & NA       & NA       & 0       \\\\\n",
       "\t93738 & 224896   & 18-09-20 & NA       & NA       & NA       & NA       & NA       & 0       \\\\\n",
       "\t94035 & 579786   & 18-09-20 & NA       & NA       & NA       & NA       & NA       & 0       \\\\\n",
       "\t94087 & 654102  & 4-09-20 & NA      & NA      & NA      & NA      & NA      & 1      \\\\\n",
       "\t94578 & 347776   & 28-08-20 & NA       & NA       & NA       & NA       & NA       & 0       \\\\\n",
       "\t94589 & 883908   & 11-09-20 & NA       & NA       & NA       & NA       & NA       & 0       \\\\\n",
       "\t94613 & 493035  & 4-09-20 & NA      & NA      & NA      & NA      & NA      & 0      \\\\\n",
       "\t94986 & 69924    & 28-08-20 & NA       & NA       & NA       & NA       & NA       & 0       \\\\\n",
       "\t95579 & 808570  & 4-09-20 & NA      & NA      & NA      & NA      & NA      & 0      \\\\\n",
       "\t95805 & 558381   & 24-01-20 & NA       & NA       & NA       & NA       & NA       & 1       \\\\\n",
       "\t96376 & 810143   & 11-09-20 & NA       & NA       & NA       & NA       & NA       & 1       \\\\\n",
       "\t96533 & 928548   & 11-09-20 & NA       & NA       & NA       & NA       & NA       & 0       \\\\\n",
       "\t96552 & 205493   & 29-05-20 & NA       & NA       & NA       & NA       & NA       & 1       \\\\\n",
       "\t96623 & 316574   & 29-05-20 & NA       & NA       & NA       & NA       & NA       & 0       \\\\\n",
       "\t96660 & 205492   & 22-05-20 & NA       & NA       & NA       & NA       & NA       & 0       \\\\\n",
       "\t96916 & 898495   & 18-09-20 & NA       & NA       & NA       & NA       & NA       & 0       \\\\\n",
       "\t97177 & 133420  & 4-09-20 & NA      & NA      & NA      & NA      & NA      & 0      \\\\\n",
       "\t97386 & 586772   & 11-09-20 & NA       & NA       & NA       & NA       & NA       & 0       \\\\\n",
       "\t97433 & 856520   & 18-09-20 & NA       & NA       & NA       & NA       & NA       & 1       \\\\\n",
       "\t97856 & 958028   & 21-08-20 & NA       & NA       & NA       & NA       & NA       & 1       \\\\\n",
       "\t98113 & 983417  & 4-09-20 & NA      & NA      & NA      & NA      & NA      & 0      \\\\\n",
       "\t98154 & 540399  & 4-09-20 & NA      & NA      & NA      & NA      & NA      & 0      \\\\\n",
       "\t98183 & 799487   & 18-09-20 & NA       & NA       & NA       & NA       & NA       & 0       \\\\\n",
       "\t98232 & 904032   & 18-09-20 & NA       & NA       & NA       & NA       & NA       & 0       \\\\\n",
       "\t98261 & 690594  & 3-01-20 & NA      & NA      & NA      & NA      & NA      & 0      \\\\\n",
       "\t98516 & 166656   & 13-03-20 & NA       & NA       & NA       & NA       & NA       & 1       \\\\\n",
       "\t98573 & 64676    & 20-03-20 & NA       & NA       & NA       & NA       & NA       & 0       \\\\\n",
       "\\end{tabular}\n"
      ],
      "text/plain": [
       "          V1 asOfDate emailSent Tasks Tags Opportunities WebForms status\n",
       "54    325538 28-02-20      <NA>  <NA> <NA>          <NA>     <NA>      0\n",
       "132   401698 11-09-20      <NA>  <NA> <NA>          <NA>     <NA>      0\n",
       "519   902829 18-09-20      <NA>  <NA> <NA>          <NA>     <NA>      0\n",
       "789   215976 18-09-20      <NA>  <NA> <NA>          <NA>     <NA>      0\n",
       "858   877814  3-07-20      <NA>  <NA> <NA>          <NA>     <NA>      1\n",
       "1346  683498 17-04-20      <NA>  <NA> <NA>          <NA>     <NA>      1\n",
       "1571  873399 13-03-20      <NA>  <NA> <NA>          <NA>     <NA>      1\n",
       "2115  882398 11-09-20      <NA>  <NA> <NA>          <NA>     <NA>      1\n",
       "3079  240326 14-02-20      <NA>  <NA> <NA>          <NA>     <NA>      1\n",
       "3201  770582  4-09-20      <NA>  <NA> <NA>          <NA>     <NA>      0\n",
       "3474  792316  5-06-20      <NA>  <NA> <NA>          <NA>     <NA>      1\n",
       "3491  803941  4-09-20      <NA>  <NA> <NA>          <NA>     <NA>      0\n",
       "3677  972884 14-02-20      <NA>  <NA> <NA>          <NA>     <NA>      1\n",
       "3908  969562  4-09-20      <NA>  <NA> <NA>          <NA>     <NA>      0\n",
       "4921  930259 28-02-20      <NA>  <NA> <NA>          <NA>     <NA>      1\n",
       "5007  124396 18-09-20      <NA>  <NA> <NA>          <NA>     <NA>      0\n",
       "5383  891005  4-09-20      <NA>  <NA> <NA>          <NA>     <NA>      0\n",
       "5469  298432 18-09-20      <NA>  <NA> <NA>          <NA>     <NA>      0\n",
       "5643  600894  4-09-20      <NA>  <NA> <NA>          <NA>     <NA>      0\n",
       "5832  147394 18-09-20      <NA>  <NA> <NA>          <NA>     <NA>      0\n",
       "5878  942029 24-07-20      <NA>  <NA> <NA>          <NA>     <NA>      1\n",
       "6422  386312 10-07-20      <NA>  <NA> <NA>          <NA>     <NA>      0\n",
       "6494  543425 31-07-20      <NA>  <NA> <NA>          <NA>     <NA>      1\n",
       "6599  710896 18-09-20      <NA>  <NA> <NA>          <NA>     <NA>      1\n",
       "6740  316571  8-05-20      <NA>  <NA> <NA>          <NA>     <NA>      1\n",
       "6939  824594  6-03-20      <NA>  <NA> <NA>          <NA>     <NA>      1\n",
       "7364   64675 13-03-20      <NA>  <NA> <NA>          <NA>     <NA>      1\n",
       "7829  416199  5-06-20      <NA>  <NA> <NA>          <NA>     <NA>      1\n",
       "8801  890961 24-04-20      <NA>  <NA> <NA>          <NA>     <NA>      0\n",
       "8820  893415 18-09-20      <NA>  <NA> <NA>          <NA>     <NA>      0\n",
       "⋮          ⋮        ⋮         ⋮     ⋮    ⋮             ⋮        ⋮      ⋮\n",
       "92525 857779 28-02-20      <NA>  <NA> <NA>          <NA>     <NA>      1\n",
       "92852 551931 21-08-20      <NA>  <NA> <NA>          <NA>     <NA>      1\n",
       "92972 180143 11-09-20      <NA>  <NA> <NA>          <NA>     <NA>      1\n",
       "93306  24104 27-03-20      <NA>  <NA> <NA>          <NA>     <NA>      0\n",
       "93738 224896 18-09-20      <NA>  <NA> <NA>          <NA>     <NA>      0\n",
       "94035 579786 18-09-20      <NA>  <NA> <NA>          <NA>     <NA>      0\n",
       "94087 654102  4-09-20      <NA>  <NA> <NA>          <NA>     <NA>      1\n",
       "94578 347776 28-08-20      <NA>  <NA> <NA>          <NA>     <NA>      0\n",
       "94589 883908 11-09-20      <NA>  <NA> <NA>          <NA>     <NA>      0\n",
       "94613 493035  4-09-20      <NA>  <NA> <NA>          <NA>     <NA>      0\n",
       "94986  69924 28-08-20      <NA>  <NA> <NA>          <NA>     <NA>      0\n",
       "95579 808570  4-09-20      <NA>  <NA> <NA>          <NA>     <NA>      0\n",
       "95805 558381 24-01-20      <NA>  <NA> <NA>          <NA>     <NA>      1\n",
       "96376 810143 11-09-20      <NA>  <NA> <NA>          <NA>     <NA>      1\n",
       "96533 928548 11-09-20      <NA>  <NA> <NA>          <NA>     <NA>      0\n",
       "96552 205493 29-05-20      <NA>  <NA> <NA>          <NA>     <NA>      1\n",
       "96623 316574 29-05-20      <NA>  <NA> <NA>          <NA>     <NA>      0\n",
       "96660 205492 22-05-20      <NA>  <NA> <NA>          <NA>     <NA>      0\n",
       "96916 898495 18-09-20      <NA>  <NA> <NA>          <NA>     <NA>      0\n",
       "97177 133420  4-09-20      <NA>  <NA> <NA>          <NA>     <NA>      0\n",
       "97386 586772 11-09-20      <NA>  <NA> <NA>          <NA>     <NA>      0\n",
       "97433 856520 18-09-20      <NA>  <NA> <NA>          <NA>     <NA>      1\n",
       "97856 958028 21-08-20      <NA>  <NA> <NA>          <NA>     <NA>      1\n",
       "98113 983417  4-09-20      <NA>  <NA> <NA>          <NA>     <NA>      0\n",
       "98154 540399  4-09-20      <NA>  <NA> <NA>          <NA>     <NA>      0\n",
       "98183 799487 18-09-20      <NA>  <NA> <NA>          <NA>     <NA>      0\n",
       "98232 904032 18-09-20      <NA>  <NA> <NA>          <NA>     <NA>      0\n",
       "98261 690594  3-01-20      <NA>  <NA> <NA>          <NA>     <NA>      0\n",
       "98516 166656 13-03-20      <NA>  <NA> <NA>          <NA>     <NA>      1\n",
       "98573  64676 20-03-20      <NA>  <NA> <NA>          <NA>     <NA>      0"
      ]
     },
     "metadata": {},
     "output_type": "display_data"
    },
    {
     "data": {
      "text/html": [
       "0.397752808988764"
      ],
      "text/latex": [
       "0.397752808988764"
      ],
      "text/markdown": [
       "0.397752808988764"
      ],
      "text/plain": [
       "[1] 0.3977528"
      ]
     },
     "metadata": {},
     "output_type": "display_data"
    }
   ],
   "source": [
    "given_data[is.na(given_data$emailSent),c(1,2,19:24)]\n",
    "#Checking the churn ratio in this incomplete data subset\n",
    "sum(given_data[is.na(given_data$emailSent),c(1,2,19:24)]$status)/nrow(given_data[is.na(given_data$emailSent),c(1,2,19:24)])\n",
    "#39.7% churn ratio in this small data subset. Shows the significance.\n",
    "\n",
    "na_data <- given_data[is.na(given_data),]\n",
    "given_data <- na.omit(given_data)"
   ]
  },
  {
   "cell_type": "code",
   "execution_count": 20,
   "metadata": {
    "collapsed": false
   },
   "outputs": [
    {
     "data": {
      "text/plain": [
       "   Min. 1st Qu.  Median    Mean 3rd Qu.    Max. \n",
       " 0.0000  0.0000  0.0000  0.0891  0.0000  1.0000 "
      ]
     },
     "metadata": {},
     "output_type": "display_data"
    },
    {
     "data": {
      "text/html": [
       "8032"
      ],
      "text/latex": [
       "8032"
      ],
      "text/markdown": [
       "8032"
      ],
      "text/plain": [
       "[1] 8032"
      ]
     },
     "metadata": {},
     "output_type": "display_data"
    },
    {
     "data": {
      "text/html": [
       "0.0890979278519767"
      ],
      "text/latex": [
       "0.0890979278519767"
      ],
      "text/markdown": [
       "0.0890979278519767"
      ],
      "text/plain": [
       "[1] 0.08909793"
      ]
     },
     "metadata": {},
     "output_type": "display_data"
    }
   ],
   "source": [
    "summary(given_data$status)\n",
    "#Number of status = 1 gives the total churn cases\n",
    "sum(given_data$status)\n",
    "#Check the overall churn ratio\n",
    "sum(given_data$status)/nrow(given_data)\n",
    "#8.9% . Shows that this is a highly imbalanced set"
   ]
  },
  {
   "cell_type": "code",
   "execution_count": 21,
   "metadata": {
    "collapsed": false
   },
   "outputs": [
    {
     "data": {},
     "metadata": {},
     "output_type": "display_data"
    },
    {
     "data": {
      "image/png": "[encoded data removed]",
      "text/plain": [
       "plot without title"
      ]
     },
     "metadata": {},
     "output_type": "display_data"
    }
   ],
   "source": [
    "\n",
    "#Will analyse churn variable wise\n",
    "\n",
    "dt <- data.table(given_data)\n",
    "#Mean of the status variable is the churn ratio\n",
    "churn_datewise <- dt[,j = mean(status),by = asOfDate]\n",
    "library(ggplot2)\n",
    "ggplot(churn_datewise,aes(asOfDate,V1)) + geom_point()\n"
   ]
  },
  {
   "cell_type": "markdown",
   "metadata": {},
   "source": [
    "* There could be a slight positive variation with time in the churn ratio as seen in the plot. "
   ]
  },
  {
   "cell_type": "markdown",
   "metadata": {},
   "source": [
    "### Correlations with status\n",
    "* A basic check to see if any variables have correlation with the churn"
   ]
  },
  {
   "cell_type": "code",
   "execution_count": 18,
   "metadata": {
    "collapsed": false
   },
   "outputs": [
    {
     "ename": "ERROR",
     "evalue": "Error in grDevices::replayPlot(obj): X11 font -adobe-helvetica-%s-%s-*-*-%d-*-*-*-*-*-*-*, face 1 at size 10 could not be loaded\n",
     "output_type": "error",
     "traceback": [
      "Error in grDevices::replayPlot(obj): X11 font -adobe-helvetica-%s-%s-*-*-%d-*-*-*-*-*-*-*, face 1 at size 10 could not be loaded\nTraceback:\n"
     ]
    },
    {
     "data": {
      "text/plain": [
       "Plot with title “”"
      ]
     },
     "metadata": {},
     "output_type": "display_data"
    }
   ],
   "source": [
    "library(\"corrplot\")\n",
    "corrplot(cor(given_data[,-2]))"
   ]
  },
  {
   "cell_type": "markdown",
   "metadata": {},
   "source": [
    "### Exploring the positive class alone.\n"
   ]
  },
  {
   "cell_type": "code",
   "execution_count": 26,
   "metadata": {
    "collapsed": false
   },
   "outputs": [
    {
     "data": {
      "text/html": [
       "<table>\n",
       "<thead><tr><th></th><th scope=col>V1</th><th scope=col>asOfDate</th><th scope=col>hits</th><th scope=col>prevhits</th><th scope=col>currTickets</th><th scope=col>prevTickets</th><th scope=col>spamComplaints</th><th scope=col>currLogins</th><th scope=col>prevLogins</th><th scope=col>broadcast4</th><th scope=col>⋯</th><th scope=col>Camp100_4weeks</th><th scope=col>Camp20_4weeks</th><th scope=col>Contacts_4weeks</th><th scope=col>ActiveDistinctContacts</th><th scope=col>emailSent</th><th scope=col>Tasks</th><th scope=col>Tags</th><th scope=col>Opportunities</th><th scope=col>WebForms</th><th scope=col>status</th></tr></thead>\n",
       "<tbody>\n",
       "\t<tr><th scope=row>2</th><td>513771 </td><td>6-03-20</td><td>0      </td><td>0      </td><td>0      </td><td>0      </td><td>0      </td><td>21     </td><td>25     </td><td>13     </td><td>⋯      </td><td>0      </td><td>0      </td><td>0      </td><td>36     </td><td>23914  </td><td>0      </td><td>2      </td><td>0      </td><td>0      </td><td>1      </td></tr>\n",
       "\t<tr><th scope=row>20</th><td>449293  </td><td>29-05-20</td><td>16276   </td><td>12493   </td><td>4       </td><td>1       </td><td>0       </td><td>84      </td><td>78      </td><td>3       </td><td>⋯       </td><td>0       </td><td>0       </td><td>18      </td><td>200     </td><td>254     </td><td>86      </td><td>87      </td><td>2       </td><td>124     </td><td>1       </td></tr>\n",
       "\t<tr><th scope=row>27</th><td>822644  </td><td>21-08-20</td><td>187     </td><td>0       </td><td>2       </td><td>0       </td><td>0       </td><td>37      </td><td>4       </td><td>0       </td><td>⋯       </td><td>0       </td><td>0       </td><td>0       </td><td>0       </td><td>8       </td><td>0       </td><td>8       </td><td>0       </td><td>0       </td><td>1       </td></tr>\n",
       "\t<tr><th scope=row>39</th><td>244501 </td><td>6-03-20</td><td>0      </td><td>0      </td><td>0      </td><td>0      </td><td>0      </td><td>0      </td><td>0      </td><td>0      </td><td>⋯      </td><td>0      </td><td>0      </td><td>0      </td><td>0      </td><td>0      </td><td>0      </td><td>0      </td><td>0      </td><td>0      </td><td>1      </td></tr>\n",
       "\t<tr><th scope=row>47</th><td>827012 </td><td>4-09-20</td><td>9441   </td><td>8413   </td><td>1      </td><td>2      </td><td>0      </td><td>32     </td><td>37     </td><td>0      </td><td>⋯      </td><td>2      </td><td>2      </td><td>117    </td><td>396    </td><td>758    </td><td>133    </td><td>586    </td><td>0      </td><td>57     </td><td>1      </td></tr>\n",
       "\t<tr><th scope=row>51</th><td>915755  </td><td>17-01-20</td><td>0       </td><td>0       </td><td>0       </td><td>0       </td><td>0       </td><td>11      </td><td>14      </td><td>1       </td><td>⋯       </td><td>0       </td><td>0       </td><td>4       </td><td>11      </td><td>99      </td><td>9       </td><td>10      </td><td>1       </td><td>4       </td><td>1       </td></tr>\n",
       "\t<tr><th scope=row>67</th><td>233086  </td><td>20-03-20</td><td>4889    </td><td>5712    </td><td>0       </td><td>0       </td><td>0       </td><td>22      </td><td>57      </td><td>0       </td><td>⋯       </td><td>0       </td><td>0       </td><td>0       </td><td>0       </td><td>0       </td><td>0       </td><td>23      </td><td>0       </td><td>0       </td><td>1       </td></tr>\n",
       "\t<tr><th scope=row>77</th><td>555017  </td><td>22-05-20</td><td>6904    </td><td>7648    </td><td>0       </td><td>2       </td><td>0       </td><td>5       </td><td>6       </td><td>0       </td><td>⋯       </td><td>0       </td><td>1       </td><td>0       </td><td>7       </td><td>5       </td><td>0       </td><td>7       </td><td>0       </td><td>2       </td><td>1       </td></tr>\n",
       "\t<tr><th scope=row>85</th><td>128169  </td><td>10-01-20</td><td>0       </td><td>0       </td><td>0       </td><td>0       </td><td>0       </td><td>0       </td><td>1       </td><td>0       </td><td>⋯       </td><td>0       </td><td>0       </td><td>0       </td><td>0       </td><td>0       </td><td>0       </td><td>0       </td><td>0       </td><td>0       </td><td>1       </td></tr>\n",
       "\t<tr><th scope=row>90</th><td>225832  </td><td>20-03-20</td><td>0       </td><td>0       </td><td>0       </td><td>0       </td><td>0       </td><td>8       </td><td>5       </td><td>1       </td><td>⋯       </td><td>1       </td><td>1       </td><td>1       </td><td>282     </td><td>1       </td><td>283     </td><td>566     </td><td>0       </td><td>0       </td><td>1       </td></tr>\n",
       "\t<tr><th scope=row>99</th><td>794891  </td><td>10-01-20</td><td>0       </td><td>0       </td><td>0       </td><td>0       </td><td>0       </td><td>3       </td><td>18      </td><td>0       </td><td>⋯       </td><td>0       </td><td>0       </td><td>0       </td><td>4       </td><td>19      </td><td>0       </td><td>0       </td><td>0       </td><td>1       </td><td>1       </td></tr>\n",
       "\t<tr><th scope=row>100</th><td>715528 </td><td>6-03-20</td><td>0      </td><td>27     </td><td>0      </td><td>0      </td><td>0      </td><td>6      </td><td>55     </td><td>0      </td><td>⋯      </td><td>0      </td><td>1      </td><td>2      </td><td>3      </td><td>1      </td><td>0      </td><td>0      </td><td>0      </td><td>0      </td><td>1      </td></tr>\n",
       "\t<tr><th scope=row>102</th><td>280182  </td><td>17-01-20</td><td>146     </td><td>163     </td><td>0       </td><td>0       </td><td>0       </td><td>2       </td><td>0       </td><td>0       </td><td>⋯       </td><td>0       </td><td>0       </td><td>33      </td><td>0       </td><td>0       </td><td>3       </td><td>29      </td><td>0       </td><td>0       </td><td>1       </td></tr>\n",
       "\t<tr><th scope=row>107</th><td>936200  </td><td>11-09-20</td><td>0       </td><td>0       </td><td>0       </td><td>0       </td><td>0       </td><td>0       </td><td>0       </td><td>0       </td><td>⋯       </td><td>0       </td><td>0       </td><td>0       </td><td>0       </td><td>0       </td><td>0       </td><td>0       </td><td>0       </td><td>0       </td><td>1       </td></tr>\n",
       "\t<tr><th scope=row>108</th><td>434789  </td><td>28-02-20</td><td>286     </td><td>1450    </td><td>0       </td><td>0       </td><td>0       </td><td>45      </td><td>87      </td><td>0       </td><td>⋯       </td><td>1       </td><td>3       </td><td>15      </td><td>403     </td><td>1102    </td><td>18      </td><td>973     </td><td>0       </td><td>3       </td><td>1       </td></tr>\n",
       "\t<tr><th scope=row>112</th><td>462177 </td><td>3-04-20</td><td>27     </td><td>65     </td><td>0      </td><td>0      </td><td>0      </td><td>4      </td><td>18     </td><td>1      </td><td>⋯      </td><td>0      </td><td>0      </td><td>7      </td><td>18     </td><td>213    </td><td>0      </td><td>20     </td><td>0      </td><td>7      </td><td>1      </td></tr>\n",
       "\t<tr><th scope=row>123</th><td>913539  </td><td>18-09-20</td><td>0       </td><td>0       </td><td>0       </td><td>0       </td><td>0       </td><td>0       </td><td>5       </td><td>0       </td><td>⋯       </td><td>0       </td><td>0       </td><td>0       </td><td>0       </td><td>0       </td><td>0       </td><td>0       </td><td>0       </td><td>0       </td><td>1       </td></tr>\n",
       "\t<tr><th scope=row>149</th><td>405430  </td><td>12-06-20</td><td>164241  </td><td>4       </td><td>3       </td><td>0       </td><td>0       </td><td>57      </td><td>29      </td><td>0       </td><td>⋯       </td><td>0       </td><td>0       </td><td>5       </td><td>5       </td><td>52      </td><td>1       </td><td>0       </td><td>10      </td><td>9       </td><td>1       </td></tr>\n",
       "\t<tr><th scope=row>169</th><td>491477  </td><td>22-05-20</td><td>0       </td><td>0       </td><td>0       </td><td>0       </td><td>0       </td><td>32      </td><td>7       </td><td>3       </td><td>⋯       </td><td>0       </td><td>0       </td><td>903     </td><td>3       </td><td>259     </td><td>0       </td><td>899     </td><td>0       </td><td>4       </td><td>1       </td></tr>\n",
       "\t<tr><th scope=row>186</th><td>106386  </td><td>26-06-20</td><td>0       </td><td>1       </td><td>0       </td><td>0       </td><td>0       </td><td>0       </td><td>0       </td><td>0       </td><td>⋯       </td><td>0       </td><td>0       </td><td>0       </td><td>114     </td><td>0       </td><td>0       </td><td>0       </td><td>0       </td><td>0       </td><td>1       </td></tr>\n",
       "\t<tr><th scope=row>192</th><td>204957  </td><td>10-07-20</td><td>0       </td><td>0       </td><td>0       </td><td>1       </td><td>0       </td><td>3       </td><td>7       </td><td>0       </td><td>⋯       </td><td>0       </td><td>0       </td><td>5       </td><td>3       </td><td>16      </td><td>3       </td><td>5       </td><td>0       </td><td>3       </td><td>1       </td></tr>\n",
       "\t<tr><th scope=row>215</th><td>181012  </td><td>17-04-20</td><td>0       </td><td>0       </td><td>0       </td><td>0       </td><td>0       </td><td>0       </td><td>0       </td><td>0       </td><td>⋯       </td><td>0       </td><td>0       </td><td>0       </td><td>1       </td><td>0       </td><td>0       </td><td>1       </td><td>0       </td><td>0       </td><td>1       </td></tr>\n",
       "\t<tr><th scope=row>220</th><td>467995 </td><td>8-05-20</td><td>0      </td><td>112    </td><td>0      </td><td>0      </td><td>0      </td><td>4      </td><td>1      </td><td>0      </td><td>⋯      </td><td>0      </td><td>0      </td><td>0      </td><td>0      </td><td>0      </td><td>0      </td><td>0      </td><td>0      </td><td>0      </td><td>1      </td></tr>\n",
       "\t<tr><th scope=row>245</th><td>260774  </td><td>22-05-20</td><td>129     </td><td>142     </td><td>1       </td><td>0       </td><td>0       </td><td>2       </td><td>1       </td><td>0       </td><td>⋯       </td><td>0       </td><td>0       </td><td>112     </td><td>163     </td><td>780     </td><td>16      </td><td>545     </td><td>0       </td><td>143     </td><td>1       </td></tr>\n",
       "\t<tr><th scope=row>267</th><td>622934  </td><td>10-07-20</td><td>8047    </td><td>6534    </td><td>0       </td><td>0       </td><td>0       </td><td>0       </td><td>0       </td><td>0       </td><td>⋯       </td><td>0       </td><td>0       </td><td>0       </td><td>0       </td><td>0       </td><td>0       </td><td>0       </td><td>0       </td><td>0       </td><td>1       </td></tr>\n",
       "\t<tr><th scope=row>271</th><td>404677  </td><td>24-07-20</td><td>0       </td><td>0       </td><td>0       </td><td>1       </td><td>0       </td><td>3       </td><td>5       </td><td>0       </td><td>⋯       </td><td>0       </td><td>0       </td><td>0       </td><td>0       </td><td>0       </td><td>0       </td><td>0       </td><td>0       </td><td>0       </td><td>1       </td></tr>\n",
       "\t<tr><th scope=row>284</th><td>116475  </td><td>17-07-20</td><td>0       </td><td>0       </td><td>0       </td><td>0       </td><td>0       </td><td>1       </td><td>1       </td><td>0       </td><td>⋯       </td><td>0       </td><td>0       </td><td>0       </td><td>2       </td><td>2       </td><td>1       </td><td>1       </td><td>0       </td><td>0       </td><td>1       </td></tr>\n",
       "\t<tr><th scope=row>285</th><td>910531  </td><td>17-01-20</td><td>0       </td><td>22      </td><td>0       </td><td>0       </td><td>0       </td><td>22      </td><td>4       </td><td>0       </td><td>⋯       </td><td>0       </td><td>0       </td><td>5       </td><td>1       </td><td>64      </td><td>0       </td><td>8       </td><td>0       </td><td>46      </td><td>1       </td></tr>\n",
       "\t<tr><th scope=row>311</th><td>28975  </td><td>7-08-20</td><td>33582  </td><td>48782  </td><td>6      </td><td>3      </td><td>0      </td><td>71     </td><td>73     </td><td>24     </td><td>⋯      </td><td>1      </td><td>1      </td><td>605    </td><td>726    </td><td>17315  </td><td>157    </td><td>3705   </td><td>0      </td><td>0      </td><td>1      </td></tr>\n",
       "\t<tr><th scope=row>325</th><td>760060 </td><td>7-08-20</td><td>0      </td><td>0      </td><td>0      </td><td>0      </td><td>0      </td><td>5      </td><td>10     </td><td>0      </td><td>⋯      </td><td>0      </td><td>0      </td><td>0      </td><td>0      </td><td>0      </td><td>0      </td><td>0      </td><td>0      </td><td>0      </td><td>1      </td></tr>\n",
       "\t<tr><th scope=row>⋮</th><td>⋮</td><td>⋮</td><td>⋮</td><td>⋮</td><td>⋮</td><td>⋮</td><td>⋮</td><td>⋮</td><td>⋮</td><td>⋮</td><td>⋱</td><td>⋮</td><td>⋮</td><td>⋮</td><td>⋮</td><td>⋮</td><td>⋮</td><td>⋮</td><td>⋮</td><td>⋮</td><td>⋮</td></tr>\n",
       "\t<tr><th scope=row>98316</th><td>454709  </td><td>15-05-20</td><td>0       </td><td>0       </td><td>0       </td><td>0       </td><td>0       </td><td>1       </td><td>1       </td><td>0       </td><td>⋯       </td><td>0       </td><td>0       </td><td>0       </td><td>0       </td><td>0       </td><td>0       </td><td>0       </td><td>0       </td><td>0       </td><td>1       </td></tr>\n",
       "\t<tr><th scope=row>98323</th><td>611186  </td><td>12-06-20</td><td>0       </td><td>0       </td><td>0       </td><td>0       </td><td>0       </td><td>19      </td><td>43      </td><td>0       </td><td>⋯       </td><td>0       </td><td>1       </td><td>10      </td><td>24      </td><td>33      </td><td>32      </td><td>41      </td><td>0       </td><td>33      </td><td>1       </td></tr>\n",
       "\t<tr><th scope=row>98352</th><td>51849   </td><td>21-08-20</td><td>187     </td><td>180     </td><td>0       </td><td>0       </td><td>0       </td><td>31      </td><td>7       </td><td>0       </td><td>⋯       </td><td>0       </td><td>0       </td><td>0       </td><td>0       </td><td>0       </td><td>0       </td><td>0       </td><td>0       </td><td>0       </td><td>1       </td></tr>\n",
       "\t<tr><th scope=row>98357</th><td>762249  </td><td>18-09-20</td><td>3       </td><td>0       </td><td>0       </td><td>0       </td><td>0       </td><td>0       </td><td>1       </td><td>0       </td><td>⋯       </td><td>0       </td><td>0       </td><td>0       </td><td>0       </td><td>0       </td><td>0       </td><td>0       </td><td>0       </td><td>0       </td><td>1       </td></tr>\n",
       "\t<tr><th scope=row>98367</th><td>796077  </td><td>31-01-20</td><td>192     </td><td>208     </td><td>0       </td><td>0       </td><td>0       </td><td>1       </td><td>1       </td><td>0       </td><td>⋯       </td><td>0       </td><td>0       </td><td>16      </td><td>29      </td><td>29      </td><td>33      </td><td>11      </td><td>16      </td><td>19      </td><td>1       </td></tr>\n",
       "\t<tr><th scope=row>98370</th><td>150810  </td><td>24-07-20</td><td>165     </td><td>166     </td><td>0       </td><td>0       </td><td>0       </td><td>1       </td><td>0       </td><td>0       </td><td>⋯       </td><td>0       </td><td>0       </td><td>0       </td><td>0       </td><td>0       </td><td>0       </td><td>0       </td><td>0       </td><td>0       </td><td>1       </td></tr>\n",
       "\t<tr><th scope=row>98394</th><td>392901 </td><td>6-03-20</td><td>0      </td><td>0      </td><td>0      </td><td>0      </td><td>0      </td><td>0      </td><td>0      </td><td>0      </td><td>⋯      </td><td>0      </td><td>0      </td><td>0      </td><td>0      </td><td>0      </td><td>0      </td><td>0      </td><td>0      </td><td>0      </td><td>1      </td></tr>\n",
       "\t<tr><th scope=row>98395</th><td>825180  </td><td>10-04-20</td><td>3968    </td><td>3765    </td><td>0       </td><td>0       </td><td>0       </td><td>7       </td><td>22      </td><td>0       </td><td>⋯       </td><td>0       </td><td>0       </td><td>131     </td><td>1030    </td><td>2852    </td><td>280     </td><td>462     </td><td>0       </td><td>103     </td><td>1       </td></tr>\n",
       "\t<tr><th scope=row>98396</th><td>450555 </td><td>6-03-20</td><td>243241 </td><td>6763   </td><td>0      </td><td>0      </td><td>0      </td><td>113    </td><td>177    </td><td>0      </td><td>⋯      </td><td>0      </td><td>0      </td><td>0      </td><td>5      </td><td>0      </td><td>58     </td><td>43     </td><td>0      </td><td>0      </td><td>1      </td></tr>\n",
       "\t<tr><th scope=row>98400</th><td>269620  </td><td>20-03-20</td><td>0       </td><td>0       </td><td>0       </td><td>0       </td><td>0       </td><td>0       </td><td>0       </td><td>0       </td><td>⋯       </td><td>0       </td><td>0       </td><td>0       </td><td>0       </td><td>0       </td><td>0       </td><td>0       </td><td>0       </td><td>0       </td><td>1       </td></tr>\n",
       "\t<tr><th scope=row>98430</th><td>702867  </td><td>28-02-20</td><td>0       </td><td>0       </td><td>0       </td><td>0       </td><td>0       </td><td>0       </td><td>0       </td><td>0       </td><td>⋯       </td><td>0       </td><td>0       </td><td>0       </td><td>0       </td><td>0       </td><td>0       </td><td>0       </td><td>0       </td><td>0       </td><td>1       </td></tr>\n",
       "\t<tr><th scope=row>98431</th><td>703925  </td><td>10-07-20</td><td>25376   </td><td>44621   </td><td>1       </td><td>0       </td><td>0       </td><td>68      </td><td>186     </td><td>0       </td><td>⋯       </td><td>0       </td><td>0       </td><td>75      </td><td>4011    </td><td>293     </td><td>199     </td><td>485     </td><td>0       </td><td>0       </td><td>1       </td></tr>\n",
       "\t<tr><th scope=row>98432</th><td>522074  </td><td>29-05-20</td><td>0       </td><td>0       </td><td>0       </td><td>0       </td><td>0       </td><td>0       </td><td>0       </td><td>0       </td><td>⋯       </td><td>0       </td><td>0       </td><td>0       </td><td>0       </td><td>0       </td><td>0       </td><td>0       </td><td>0       </td><td>0       </td><td>1       </td></tr>\n",
       "\t<tr><th scope=row>98445</th><td>657842 </td><td>6-03-20</td><td>0      </td><td>0      </td><td>0      </td><td>0      </td><td>0      </td><td>1      </td><td>0      </td><td>0      </td><td>⋯      </td><td>0      </td><td>0      </td><td>0      </td><td>0      </td><td>0      </td><td>0      </td><td>0      </td><td>0      </td><td>0      </td><td>1      </td></tr>\n",
       "\t<tr><th scope=row>98447</th><td>728785  </td><td>10-07-20</td><td>19      </td><td>0       </td><td>2       </td><td>0       </td><td>0       </td><td>10      </td><td>0       </td><td>1       </td><td>⋯       </td><td>0       </td><td>0       </td><td>4       </td><td>4       </td><td>13      </td><td>1       </td><td>0       </td><td>0       </td><td>4       </td><td>1       </td></tr>\n",
       "\t<tr><th scope=row>98451</th><td>423680  </td><td>20-03-20</td><td>0       </td><td>0       </td><td>0       </td><td>0       </td><td>0       </td><td>1       </td><td>1       </td><td>0       </td><td>⋯       </td><td>0       </td><td>0       </td><td>23      </td><td>76      </td><td>45      </td><td>0       </td><td>17      </td><td>0       </td><td>25      </td><td>1       </td></tr>\n",
       "\t<tr><th scope=row>98462</th><td>309593 </td><td>7-02-20</td><td>11658  </td><td>52866  </td><td>0      </td><td>0      </td><td>0      </td><td>9      </td><td>8      </td><td>0      </td><td>⋯      </td><td>0      </td><td>0      </td><td>0      </td><td>1      </td><td>3      </td><td>2      </td><td>2      </td><td>2      </td><td>2      </td><td>1      </td></tr>\n",
       "\t<tr><th scope=row>98477</th><td>241205  </td><td>17-01-20</td><td>43824   </td><td>30693   </td><td>0       </td><td>0       </td><td>0       </td><td>72      </td><td>131     </td><td>4       </td><td>⋯       </td><td>0       </td><td>0       </td><td>5       </td><td>4       </td><td>388     </td><td>38      </td><td>1       </td><td>1       </td><td>4       </td><td>1       </td></tr>\n",
       "\t<tr><th scope=row>98479</th><td>274304 </td><td>1-05-20</td><td>0      </td><td>0      </td><td>0      </td><td>0      </td><td>0      </td><td>0      </td><td>0      </td><td>0      </td><td>⋯      </td><td>0      </td><td>0      </td><td>0      </td><td>0      </td><td>0      </td><td>0      </td><td>0      </td><td>0      </td><td>0      </td><td>1      </td></tr>\n",
       "\t<tr><th scope=row>98498</th><td>421208  </td><td>21-08-20</td><td>0       </td><td>0       </td><td>0       </td><td>0       </td><td>0       </td><td>3       </td><td>0       </td><td>0       </td><td>⋯       </td><td>0       </td><td>0       </td><td>0       </td><td>0       </td><td>0       </td><td>0       </td><td>0       </td><td>0       </td><td>0       </td><td>1       </td></tr>\n",
       "\t<tr><th scope=row>98511</th><td>516143  </td><td>14-02-20</td><td>6       </td><td>0       </td><td>0       </td><td>0       </td><td>0       </td><td>13      </td><td>20      </td><td>1       </td><td>⋯       </td><td>0       </td><td>0       </td><td>2258    </td><td>0       </td><td>2       </td><td>0       </td><td>5535    </td><td>0       </td><td>3       </td><td>1       </td></tr>\n",
       "\t<tr><th scope=row>98526</th><td>711721  </td><td>21-08-20</td><td>0       </td><td>0       </td><td>1       </td><td>0       </td><td>0       </td><td>16      </td><td>8       </td><td>0       </td><td>⋯       </td><td>0       </td><td>0       </td><td>0       </td><td>1       </td><td>3       </td><td>1       </td><td>1       </td><td>0       </td><td>1       </td><td>1       </td></tr>\n",
       "\t<tr><th scope=row>98532</th><td>601566 </td><td>3-07-20</td><td>102    </td><td>296    </td><td>0      </td><td>1      </td><td>0      </td><td>6      </td><td>17     </td><td>1      </td><td>⋯      </td><td>0      </td><td>0      </td><td>15     </td><td>311    </td><td>1254   </td><td>16     </td><td>101    </td><td>0      </td><td>21     </td><td>1      </td></tr>\n",
       "\t<tr><th scope=row>98542</th><td>254047  </td><td>31-01-20</td><td>2178    </td><td>2647    </td><td>0       </td><td>0       </td><td>0       </td><td>1       </td><td>1       </td><td>0       </td><td>⋯       </td><td>0       </td><td>0       </td><td>86      </td><td>2757    </td><td>5450    </td><td>0       </td><td>217     </td><td>0       </td><td>144     </td><td>1       </td></tr>\n",
       "\t<tr><th scope=row>98543</th><td>881915  </td><td>28-08-20</td><td>2497    </td><td>1853    </td><td>2       </td><td>0       </td><td>0       </td><td>2       </td><td>1       </td><td>0       </td><td>⋯       </td><td>0       </td><td>0       </td><td>0       </td><td>0       </td><td>1       </td><td>0       </td><td>0       </td><td>0       </td><td>0       </td><td>1       </td></tr>\n",
       "\t<tr><th scope=row>98585</th><td>771602  </td><td>24-07-20</td><td>0       </td><td>0       </td><td>0       </td><td>0       </td><td>0       </td><td>0       </td><td>0       </td><td>0       </td><td>⋯       </td><td>0       </td><td>0       </td><td>0       </td><td>0       </td><td>0       </td><td>0       </td><td>0       </td><td>0       </td><td>0       </td><td>1       </td></tr>\n",
       "\t<tr><th scope=row>98603</th><td>1000074 </td><td>17-01-20</td><td>0       </td><td>0       </td><td>0       </td><td>0       </td><td>0       </td><td>3       </td><td>5       </td><td>0       </td><td>⋯       </td><td>0       </td><td>0       </td><td>0       </td><td>0       </td><td>0       </td><td>0       </td><td>0       </td><td>0       </td><td>0       </td><td>1       </td></tr>\n",
       "\t<tr><th scope=row>98604</th><td>988331  </td><td>24-04-20</td><td>0       </td><td>0       </td><td>0       </td><td>0       </td><td>0       </td><td>0       </td><td>2       </td><td>0       </td><td>⋯       </td><td>0       </td><td>0       </td><td>0       </td><td>0       </td><td>0       </td><td>0       </td><td>0       </td><td>0       </td><td>0       </td><td>1       </td></tr>\n",
       "\t<tr><th scope=row>98616</th><td>771826  </td><td>10-07-20</td><td>2167    </td><td>3722    </td><td>0       </td><td>0       </td><td>0       </td><td>0       </td><td>0       </td><td>0       </td><td>⋯       </td><td>0       </td><td>0       </td><td>0       </td><td>0       </td><td>0       </td><td>0       </td><td>0       </td><td>0       </td><td>0       </td><td>1       </td></tr>\n",
       "\t<tr><th scope=row>98617</th><td>846332  </td><td>22-05-20</td><td>368     </td><td>1       </td><td>2       </td><td>0       </td><td>0       </td><td>67      </td><td>20      </td><td>2       </td><td>⋯       </td><td>0       </td><td>1       </td><td>78      </td><td>77      </td><td>57      </td><td>34      </td><td>333     </td><td>3660    </td><td>70      </td><td>1       </td></tr>\n",
       "</tbody>\n",
       "</table>\n"
      ],
      "text/latex": [
       "\\begin{tabular}{r|llllllllllllllllllllllll}\n",
       "  & V1 & asOfDate & hits & prevhits & currTickets & prevTickets & spamComplaints & currLogins & prevLogins & broadcast4 & ⋯ & Camp100\\_4weeks & Camp20\\_4weeks & Contacts\\_4weeks & ActiveDistinctContacts & emailSent & Tasks & Tags & Opportunities & WebForms & status\\\\\n",
       "\\hline\n",
       "\t2 & 513771  & 6-03-20 & 0       & 0       & 0       & 0       & 0       & 21      & 25      & 13      & ⋯       & 0       & 0       & 0       & 36      & 23914   & 0       & 2       & 0       & 0       & 1      \\\\\n",
       "\t20 & 449293   & 29-05-20 & 16276    & 12493    & 4        & 1        & 0        & 84       & 78       & 3        & ⋯        & 0        & 0        & 18       & 200      & 254      & 86       & 87       & 2        & 124      & 1       \\\\\n",
       "\t27 & 822644   & 21-08-20 & 187      & 0        & 2        & 0        & 0        & 37       & 4        & 0        & ⋯        & 0        & 0        & 0        & 0        & 8        & 0        & 8        & 0        & 0        & 1       \\\\\n",
       "\t39 & 244501  & 6-03-20 & 0       & 0       & 0       & 0       & 0       & 0       & 0       & 0       & ⋯       & 0       & 0       & 0       & 0       & 0       & 0       & 0       & 0       & 0       & 1      \\\\\n",
       "\t47 & 827012  & 4-09-20 & 9441    & 8413    & 1       & 2       & 0       & 32      & 37      & 0       & ⋯       & 2       & 2       & 117     & 396     & 758     & 133     & 586     & 0       & 57      & 1      \\\\\n",
       "\t51 & 915755   & 17-01-20 & 0        & 0        & 0        & 0        & 0        & 11       & 14       & 1        & ⋯        & 0        & 0        & 4        & 11       & 99       & 9        & 10       & 1        & 4        & 1       \\\\\n",
       "\t67 & 233086   & 20-03-20 & 4889     & 5712     & 0        & 0        & 0        & 22       & 57       & 0        & ⋯        & 0        & 0        & 0        & 0        & 0        & 0        & 23       & 0        & 0        & 1       \\\\\n",
       "\t77 & 555017   & 22-05-20 & 6904     & 7648     & 0        & 2        & 0        & 5        & 6        & 0        & ⋯        & 0        & 1        & 0        & 7        & 5        & 0        & 7        & 0        & 2        & 1       \\\\\n",
       "\t85 & 128169   & 10-01-20 & 0        & 0        & 0        & 0        & 0        & 0        & 1        & 0        & ⋯        & 0        & 0        & 0        & 0        & 0        & 0        & 0        & 0        & 0        & 1       \\\\\n",
       "\t90 & 225832   & 20-03-20 & 0        & 0        & 0        & 0        & 0        & 8        & 5        & 1        & ⋯        & 1        & 1        & 1        & 282      & 1        & 283      & 566      & 0        & 0        & 1       \\\\\n",
       "\t99 & 794891   & 10-01-20 & 0        & 0        & 0        & 0        & 0        & 3        & 18       & 0        & ⋯        & 0        & 0        & 0        & 4        & 19       & 0        & 0        & 0        & 1        & 1       \\\\\n",
       "\t100 & 715528  & 6-03-20 & 0       & 27      & 0       & 0       & 0       & 6       & 55      & 0       & ⋯       & 0       & 1       & 2       & 3       & 1       & 0       & 0       & 0       & 0       & 1      \\\\\n",
       "\t102 & 280182   & 17-01-20 & 146      & 163      & 0        & 0        & 0        & 2        & 0        & 0        & ⋯        & 0        & 0        & 33       & 0        & 0        & 3        & 29       & 0        & 0        & 1       \\\\\n",
       "\t107 & 936200   & 11-09-20 & 0        & 0        & 0        & 0        & 0        & 0        & 0        & 0        & ⋯        & 0        & 0        & 0        & 0        & 0        & 0        & 0        & 0        & 0        & 1       \\\\\n",
       "\t108 & 434789   & 28-02-20 & 286      & 1450     & 0        & 0        & 0        & 45       & 87       & 0        & ⋯        & 1        & 3        & 15       & 403      & 1102     & 18       & 973      & 0        & 3        & 1       \\\\\n",
       "\t112 & 462177  & 3-04-20 & 27      & 65      & 0       & 0       & 0       & 4       & 18      & 1       & ⋯       & 0       & 0       & 7       & 18      & 213     & 0       & 20      & 0       & 7       & 1      \\\\\n",
       "\t123 & 913539   & 18-09-20 & 0        & 0        & 0        & 0        & 0        & 0        & 5        & 0        & ⋯        & 0        & 0        & 0        & 0        & 0        & 0        & 0        & 0        & 0        & 1       \\\\\n",
       "\t149 & 405430   & 12-06-20 & 164241   & 4        & 3        & 0        & 0        & 57       & 29       & 0        & ⋯        & 0        & 0        & 5        & 5        & 52       & 1        & 0        & 10       & 9        & 1       \\\\\n",
       "\t169 & 491477   & 22-05-20 & 0        & 0        & 0        & 0        & 0        & 32       & 7        & 3        & ⋯        & 0        & 0        & 903      & 3        & 259      & 0        & 899      & 0        & 4        & 1       \\\\\n",
       "\t186 & 106386   & 26-06-20 & 0        & 1        & 0        & 0        & 0        & 0        & 0        & 0        & ⋯        & 0        & 0        & 0        & 114      & 0        & 0        & 0        & 0        & 0        & 1       \\\\\n",
       "\t192 & 204957   & 10-07-20 & 0        & 0        & 0        & 1        & 0        & 3        & 7        & 0        & ⋯        & 0        & 0        & 5        & 3        & 16       & 3        & 5        & 0        & 3        & 1       \\\\\n",
       "\t215 & 181012   & 17-04-20 & 0        & 0        & 0        & 0        & 0        & 0        & 0        & 0        & ⋯        & 0        & 0        & 0        & 1        & 0        & 0        & 1        & 0        & 0        & 1       \\\\\n",
       "\t220 & 467995  & 8-05-20 & 0       & 112     & 0       & 0       & 0       & 4       & 1       & 0       & ⋯       & 0       & 0       & 0       & 0       & 0       & 0       & 0       & 0       & 0       & 1      \\\\\n",
       "\t245 & 260774   & 22-05-20 & 129      & 142      & 1        & 0        & 0        & 2        & 1        & 0        & ⋯        & 0        & 0        & 112      & 163      & 780      & 16       & 545      & 0        & 143      & 1       \\\\\n",
       "\t267 & 622934   & 10-07-20 & 8047     & 6534     & 0        & 0        & 0        & 0        & 0        & 0        & ⋯        & 0        & 0        & 0        & 0        & 0        & 0        & 0        & 0        & 0        & 1       \\\\\n",
       "\t271 & 404677   & 24-07-20 & 0        & 0        & 0        & 1        & 0        & 3        & 5        & 0        & ⋯        & 0        & 0        & 0        & 0        & 0        & 0        & 0        & 0        & 0        & 1       \\\\\n",
       "\t284 & 116475   & 17-07-20 & 0        & 0        & 0        & 0        & 0        & 1        & 1        & 0        & ⋯        & 0        & 0        & 0        & 2        & 2        & 1        & 1        & 0        & 0        & 1       \\\\\n",
       "\t285 & 910531   & 17-01-20 & 0        & 22       & 0        & 0        & 0        & 22       & 4        & 0        & ⋯        & 0        & 0        & 5        & 1        & 64       & 0        & 8        & 0        & 46       & 1       \\\\\n",
       "\t311 & 28975   & 7-08-20 & 33582   & 48782   & 6       & 3       & 0       & 71      & 73      & 24      & ⋯       & 1       & 1       & 605     & 726     & 17315   & 157     & 3705    & 0       & 0       & 1      \\\\\n",
       "\t325 & 760060  & 7-08-20 & 0       & 0       & 0       & 0       & 0       & 5       & 10      & 0       & ⋯       & 0       & 0       & 0       & 0       & 0       & 0       & 0       & 0       & 0       & 1      \\\\\n",
       "\t⋮ & ⋮ & ⋮ & ⋮ & ⋮ & ⋮ & ⋮ & ⋮ & ⋮ & ⋮ & ⋮ & ⋱ & ⋮ & ⋮ & ⋮ & ⋮ & ⋮ & ⋮ & ⋮ & ⋮ & ⋮ & ⋮\\\\\n",
       "\t98316 & 454709   & 15-05-20 & 0        & 0        & 0        & 0        & 0        & 1        & 1        & 0        & ⋯        & 0        & 0        & 0        & 0        & 0        & 0        & 0        & 0        & 0        & 1       \\\\\n",
       "\t98323 & 611186   & 12-06-20 & 0        & 0        & 0        & 0        & 0        & 19       & 43       & 0        & ⋯        & 0        & 1        & 10       & 24       & 33       & 32       & 41       & 0        & 33       & 1       \\\\\n",
       "\t98352 & 51849    & 21-08-20 & 187      & 180      & 0        & 0        & 0        & 31       & 7        & 0        & ⋯        & 0        & 0        & 0        & 0        & 0        & 0        & 0        & 0        & 0        & 1       \\\\\n",
       "\t98357 & 762249   & 18-09-20 & 3        & 0        & 0        & 0        & 0        & 0        & 1        & 0        & ⋯        & 0        & 0        & 0        & 0        & 0        & 0        & 0        & 0        & 0        & 1       \\\\\n",
       "\t98367 & 796077   & 31-01-20 & 192      & 208      & 0        & 0        & 0        & 1        & 1        & 0        & ⋯        & 0        & 0        & 16       & 29       & 29       & 33       & 11       & 16       & 19       & 1       \\\\\n",
       "\t98370 & 150810   & 24-07-20 & 165      & 166      & 0        & 0        & 0        & 1        & 0        & 0        & ⋯        & 0        & 0        & 0        & 0        & 0        & 0        & 0        & 0        & 0        & 1       \\\\\n",
       "\t98394 & 392901  & 6-03-20 & 0       & 0       & 0       & 0       & 0       & 0       & 0       & 0       & ⋯       & 0       & 0       & 0       & 0       & 0       & 0       & 0       & 0       & 0       & 1      \\\\\n",
       "\t98395 & 825180   & 10-04-20 & 3968     & 3765     & 0        & 0        & 0        & 7        & 22       & 0        & ⋯        & 0        & 0        & 131      & 1030     & 2852     & 280      & 462      & 0        & 103      & 1       \\\\\n",
       "\t98396 & 450555  & 6-03-20 & 243241  & 6763    & 0       & 0       & 0       & 113     & 177     & 0       & ⋯       & 0       & 0       & 0       & 5       & 0       & 58      & 43      & 0       & 0       & 1      \\\\\n",
       "\t98400 & 269620   & 20-03-20 & 0        & 0        & 0        & 0        & 0        & 0        & 0        & 0        & ⋯        & 0        & 0        & 0        & 0        & 0        & 0        & 0        & 0        & 0        & 1       \\\\\n",
       "\t98430 & 702867   & 28-02-20 & 0        & 0        & 0        & 0        & 0        & 0        & 0        & 0        & ⋯        & 0        & 0        & 0        & 0        & 0        & 0        & 0        & 0        & 0        & 1       \\\\\n",
       "\t98431 & 703925   & 10-07-20 & 25376    & 44621    & 1        & 0        & 0        & 68       & 186      & 0        & ⋯        & 0        & 0        & 75       & 4011     & 293      & 199      & 485      & 0        & 0        & 1       \\\\\n",
       "\t98432 & 522074   & 29-05-20 & 0        & 0        & 0        & 0        & 0        & 0        & 0        & 0        & ⋯        & 0        & 0        & 0        & 0        & 0        & 0        & 0        & 0        & 0        & 1       \\\\\n",
       "\t98445 & 657842  & 6-03-20 & 0       & 0       & 0       & 0       & 0       & 1       & 0       & 0       & ⋯       & 0       & 0       & 0       & 0       & 0       & 0       & 0       & 0       & 0       & 1      \\\\\n",
       "\t98447 & 728785   & 10-07-20 & 19       & 0        & 2        & 0        & 0        & 10       & 0        & 1        & ⋯        & 0        & 0        & 4        & 4        & 13       & 1        & 0        & 0        & 4        & 1       \\\\\n",
       "\t98451 & 423680   & 20-03-20 & 0        & 0        & 0        & 0        & 0        & 1        & 1        & 0        & ⋯        & 0        & 0        & 23       & 76       & 45       & 0        & 17       & 0        & 25       & 1       \\\\\n",
       "\t98462 & 309593  & 7-02-20 & 11658   & 52866   & 0       & 0       & 0       & 9       & 8       & 0       & ⋯       & 0       & 0       & 0       & 1       & 3       & 2       & 2       & 2       & 2       & 1      \\\\\n",
       "\t98477 & 241205   & 17-01-20 & 43824    & 30693    & 0        & 0        & 0        & 72       & 131      & 4        & ⋯        & 0        & 0        & 5        & 4        & 388      & 38       & 1        & 1        & 4        & 1       \\\\\n",
       "\t98479 & 274304  & 1-05-20 & 0       & 0       & 0       & 0       & 0       & 0       & 0       & 0       & ⋯       & 0       & 0       & 0       & 0       & 0       & 0       & 0       & 0       & 0       & 1      \\\\\n",
       "\t98498 & 421208   & 21-08-20 & 0        & 0        & 0        & 0        & 0        & 3        & 0        & 0        & ⋯        & 0        & 0        & 0        & 0        & 0        & 0        & 0        & 0        & 0        & 1       \\\\\n",
       "\t98511 & 516143   & 14-02-20 & 6        & 0        & 0        & 0        & 0        & 13       & 20       & 1        & ⋯        & 0        & 0        & 2258     & 0        & 2        & 0        & 5535     & 0        & 3        & 1       \\\\\n",
       "\t98526 & 711721   & 21-08-20 & 0        & 0        & 1        & 0        & 0        & 16       & 8        & 0        & ⋯        & 0        & 0        & 0        & 1        & 3        & 1        & 1        & 0        & 1        & 1       \\\\\n",
       "\t98532 & 601566  & 3-07-20 & 102     & 296     & 0       & 1       & 0       & 6       & 17      & 1       & ⋯       & 0       & 0       & 15      & 311     & 1254    & 16      & 101     & 0       & 21      & 1      \\\\\n",
       "\t98542 & 254047   & 31-01-20 & 2178     & 2647     & 0        & 0        & 0        & 1        & 1        & 0        & ⋯        & 0        & 0        & 86       & 2757     & 5450     & 0        & 217      & 0        & 144      & 1       \\\\\n",
       "\t98543 & 881915   & 28-08-20 & 2497     & 1853     & 2        & 0        & 0        & 2        & 1        & 0        & ⋯        & 0        & 0        & 0        & 0        & 1        & 0        & 0        & 0        & 0        & 1       \\\\\n",
       "\t98585 & 771602   & 24-07-20 & 0        & 0        & 0        & 0        & 0        & 0        & 0        & 0        & ⋯        & 0        & 0        & 0        & 0        & 0        & 0        & 0        & 0        & 0        & 1       \\\\\n",
       "\t98603 & 1000074  & 17-01-20 & 0        & 0        & 0        & 0        & 0        & 3        & 5        & 0        & ⋯        & 0        & 0        & 0        & 0        & 0        & 0        & 0        & 0        & 0        & 1       \\\\\n",
       "\t98604 & 988331   & 24-04-20 & 0        & 0        & 0        & 0        & 0        & 0        & 2        & 0        & ⋯        & 0        & 0        & 0        & 0        & 0        & 0        & 0        & 0        & 0        & 1       \\\\\n",
       "\t98616 & 771826   & 10-07-20 & 2167     & 3722     & 0        & 0        & 0        & 0        & 0        & 0        & ⋯        & 0        & 0        & 0        & 0        & 0        & 0        & 0        & 0        & 0        & 1       \\\\\n",
       "\t98617 & 846332   & 22-05-20 & 368      & 1        & 2        & 0        & 0        & 67       & 20       & 2        & ⋯        & 0        & 1        & 78       & 77       & 57       & 34       & 333      & 3660     & 70       & 1       \\\\\n",
       "\\end{tabular}\n"
      ],
      "text/plain": [
       "           V1 asOfDate   hits prevhits currTickets prevTickets spamComplaints\n",
       "2      513771  6-03-20      0        0           0           0              0\n",
       "20     449293 29-05-20  16276    12493           4           1              0\n",
       "27     822644 21-08-20    187        0           2           0              0\n",
       "39     244501  6-03-20      0        0           0           0              0\n",
       "47     827012  4-09-20   9441     8413           1           2              0\n",
       "51     915755 17-01-20      0        0           0           0              0\n",
       "67     233086 20-03-20   4889     5712           0           0              0\n",
       "77     555017 22-05-20   6904     7648           0           2              0\n",
       "85     128169 10-01-20      0        0           0           0              0\n",
       "90     225832 20-03-20      0        0           0           0              0\n",
       "99     794891 10-01-20      0        0           0           0              0\n",
       "100    715528  6-03-20      0       27           0           0              0\n",
       "102    280182 17-01-20    146      163           0           0              0\n",
       "107    936200 11-09-20      0        0           0           0              0\n",
       "108    434789 28-02-20    286     1450           0           0              0\n",
       "112    462177  3-04-20     27       65           0           0              0\n",
       "123    913539 18-09-20      0        0           0           0              0\n",
       "149    405430 12-06-20 164241        4           3           0              0\n",
       "169    491477 22-05-20      0        0           0           0              0\n",
       "186    106386 26-06-20      0        1           0           0              0\n",
       "192    204957 10-07-20      0        0           0           1              0\n",
       "215    181012 17-04-20      0        0           0           0              0\n",
       "220    467995  8-05-20      0      112           0           0              0\n",
       "245    260774 22-05-20    129      142           1           0              0\n",
       "267    622934 10-07-20   8047     6534           0           0              0\n",
       "271    404677 24-07-20      0        0           0           1              0\n",
       "284    116475 17-07-20      0        0           0           0              0\n",
       "285    910531 17-01-20      0       22           0           0              0\n",
       "311     28975  7-08-20  33582    48782           6           3              0\n",
       "325    760060  7-08-20      0        0           0           0              0\n",
       "⋮           ⋮        ⋮      ⋮        ⋮           ⋮           ⋮              ⋮\n",
       "98316  454709 15-05-20      0        0           0           0              0\n",
       "98323  611186 12-06-20      0        0           0           0              0\n",
       "98352   51849 21-08-20    187      180           0           0              0\n",
       "98357  762249 18-09-20      3        0           0           0              0\n",
       "98367  796077 31-01-20    192      208           0           0              0\n",
       "98370  150810 24-07-20    165      166           0           0              0\n",
       "98394  392901  6-03-20      0        0           0           0              0\n",
       "98395  825180 10-04-20   3968     3765           0           0              0\n",
       "98396  450555  6-03-20 243241     6763           0           0              0\n",
       "98400  269620 20-03-20      0        0           0           0              0\n",
       "98430  702867 28-02-20      0        0           0           0              0\n",
       "98431  703925 10-07-20  25376    44621           1           0              0\n",
       "98432  522074 29-05-20      0        0           0           0              0\n",
       "98445  657842  6-03-20      0        0           0           0              0\n",
       "98447  728785 10-07-20     19        0           2           0              0\n",
       "98451  423680 20-03-20      0        0           0           0              0\n",
       "98462  309593  7-02-20  11658    52866           0           0              0\n",
       "98477  241205 17-01-20  43824    30693           0           0              0\n",
       "98479  274304  1-05-20      0        0           0           0              0\n",
       "98498  421208 21-08-20      0        0           0           0              0\n",
       "98511  516143 14-02-20      6        0           0           0              0\n",
       "98526  711721 21-08-20      0        0           1           0              0\n",
       "98532  601566  3-07-20    102      296           0           1              0\n",
       "98542  254047 31-01-20   2178     2647           0           0              0\n",
       "98543  881915 28-08-20   2497     1853           2           0              0\n",
       "98585  771602 24-07-20      0        0           0           0              0\n",
       "98603 1000074 17-01-20      0        0           0           0              0\n",
       "98604  988331 24-04-20      0        0           0           0              0\n",
       "98616  771826 10-07-20   2167     3722           0           0              0\n",
       "98617  846332 22-05-20    368        1           2           0              0\n",
       "      currLogins prevLogins broadcast4 ⋯ Camp100_4weeks Camp20_4weeks\n",
       "2             21         25         13 ⋯              0             0\n",
       "20            84         78          3 ⋯              0             0\n",
       "27            37          4          0 ⋯              0             0\n",
       "39             0          0          0 ⋯              0             0\n",
       "47            32         37          0 ⋯              2             2\n",
       "51            11         14          1 ⋯              0             0\n",
       "67            22         57          0 ⋯              0             0\n",
       "77             5          6          0 ⋯              0             1\n",
       "85             0          1          0 ⋯              0             0\n",
       "90             8          5          1 ⋯              1             1\n",
       "99             3         18          0 ⋯              0             0\n",
       "100            6         55          0 ⋯              0             1\n",
       "102            2          0          0 ⋯              0             0\n",
       "107            0          0          0 ⋯              0             0\n",
       "108           45         87          0 ⋯              1             3\n",
       "112            4         18          1 ⋯              0             0\n",
       "123            0          5          0 ⋯              0             0\n",
       "149           57         29          0 ⋯              0             0\n",
       "169           32          7          3 ⋯              0             0\n",
       "186            0          0          0 ⋯              0             0\n",
       "192            3          7          0 ⋯              0             0\n",
       "215            0          0          0 ⋯              0             0\n",
       "220            4          1          0 ⋯              0             0\n",
       "245            2          1          0 ⋯              0             0\n",
       "267            0          0          0 ⋯              0             0\n",
       "271            3          5          0 ⋯              0             0\n",
       "284            1          1          0 ⋯              0             0\n",
       "285           22          4          0 ⋯              0             0\n",
       "311           71         73         24 ⋯              1             1\n",
       "325            5         10          0 ⋯              0             0\n",
       "⋮              ⋮          ⋮          ⋮ ⋱              ⋮             ⋮\n",
       "98316          1          1          0 ⋯              0             0\n",
       "98323         19         43          0 ⋯              0             1\n",
       "98352         31          7          0 ⋯              0             0\n",
       "98357          0          1          0 ⋯              0             0\n",
       "98367          1          1          0 ⋯              0             0\n",
       "98370          1          0          0 ⋯              0             0\n",
       "98394          0          0          0 ⋯              0             0\n",
       "98395          7         22          0 ⋯              0             0\n",
       "98396        113        177          0 ⋯              0             0\n",
       "98400          0          0          0 ⋯              0             0\n",
       "98430          0          0          0 ⋯              0             0\n",
       "98431         68        186          0 ⋯              0             0\n",
       "98432          0          0          0 ⋯              0             0\n",
       "98445          1          0          0 ⋯              0             0\n",
       "98447         10          0          1 ⋯              0             0\n",
       "98451          1          1          0 ⋯              0             0\n",
       "98462          9          8          0 ⋯              0             0\n",
       "98477         72        131          4 ⋯              0             0\n",
       "98479          0          0          0 ⋯              0             0\n",
       "98498          3          0          0 ⋯              0             0\n",
       "98511         13         20          1 ⋯              0             0\n",
       "98526         16          8          0 ⋯              0             0\n",
       "98532          6         17          1 ⋯              0             0\n",
       "98542          1          1          0 ⋯              0             0\n",
       "98543          2          1          0 ⋯              0             0\n",
       "98585          0          0          0 ⋯              0             0\n",
       "98603          3          5          0 ⋯              0             0\n",
       "98604          0          2          0 ⋯              0             0\n",
       "98616          0          0          0 ⋯              0             0\n",
       "98617         67         20          2 ⋯              0             1\n",
       "      Contacts_4weeks ActiveDistinctContacts emailSent Tasks Tags Opportunities\n",
       "2                   0                     36     23914     0    2             0\n",
       "20                 18                    200       254    86   87             2\n",
       "27                  0                      0         8     0    8             0\n",
       "39                  0                      0         0     0    0             0\n",
       "47                117                    396       758   133  586             0\n",
       "51                  4                     11        99     9   10             1\n",
       "67                  0                      0         0     0   23             0\n",
       "77                  0                      7         5     0    7             0\n",
       "85                  0                      0         0     0    0             0\n",
       "90                  1                    282         1   283  566             0\n",
       "99                  0                      4        19     0    0             0\n",
       "100                 2                      3         1     0    0             0\n",
       "102                33                      0         0     3   29             0\n",
       "107                 0                      0         0     0    0             0\n",
       "108                15                    403      1102    18  973             0\n",
       "112                 7                     18       213     0   20             0\n",
       "123                 0                      0         0     0    0             0\n",
       "149                 5                      5        52     1    0            10\n",
       "169               903                      3       259     0  899             0\n",
       "186                 0                    114         0     0    0             0\n",
       "192                 5                      3        16     3    5             0\n",
       "215                 0                      1         0     0    1             0\n",
       "220                 0                      0         0     0    0             0\n",
       "245               112                    163       780    16  545             0\n",
       "267                 0                      0         0     0    0             0\n",
       "271                 0                      0         0     0    0             0\n",
       "284                 0                      2         2     1    1             0\n",
       "285                 5                      1        64     0    8             0\n",
       "311               605                    726     17315   157 3705             0\n",
       "325                 0                      0         0     0    0             0\n",
       "⋮                   ⋮                      ⋮         ⋮     ⋮    ⋮             ⋮\n",
       "98316               0                      0         0     0    0             0\n",
       "98323              10                     24        33    32   41             0\n",
       "98352               0                      0         0     0    0             0\n",
       "98357               0                      0         0     0    0             0\n",
       "98367              16                     29        29    33   11            16\n",
       "98370               0                      0         0     0    0             0\n",
       "98394               0                      0         0     0    0             0\n",
       "98395             131                   1030      2852   280  462             0\n",
       "98396               0                      5         0    58   43             0\n",
       "98400               0                      0         0     0    0             0\n",
       "98430               0                      0         0     0    0             0\n",
       "98431              75                   4011       293   199  485             0\n",
       "98432               0                      0         0     0    0             0\n",
       "98445               0                      0         0     0    0             0\n",
       "98447               4                      4        13     1    0             0\n",
       "98451              23                     76        45     0   17             0\n",
       "98462               0                      1         3     2    2             2\n",
       "98477               5                      4       388    38    1             1\n",
       "98479               0                      0         0     0    0             0\n",
       "98498               0                      0         0     0    0             0\n",
       "98511            2258                      0         2     0 5535             0\n",
       "98526               0                      1         3     1    1             0\n",
       "98532              15                    311      1254    16  101             0\n",
       "98542              86                   2757      5450     0  217             0\n",
       "98543               0                      0         1     0    0             0\n",
       "98585               0                      0         0     0    0             0\n",
       "98603               0                      0         0     0    0             0\n",
       "98604               0                      0         0     0    0             0\n",
       "98616               0                      0         0     0    0             0\n",
       "98617              78                     77        57    34  333          3660\n",
       "      WebForms status\n",
       "2            0      1\n",
       "20         124      1\n",
       "27           0      1\n",
       "39           0      1\n",
       "47          57      1\n",
       "51           4      1\n",
       "67           0      1\n",
       "77           2      1\n",
       "85           0      1\n",
       "90           0      1\n",
       "99           1      1\n",
       "100          0      1\n",
       "102          0      1\n",
       "107          0      1\n",
       "108          3      1\n",
       "112          7      1\n",
       "123          0      1\n",
       "149          9      1\n",
       "169          4      1\n",
       "186          0      1\n",
       "192          3      1\n",
       "215          0      1\n",
       "220          0      1\n",
       "245        143      1\n",
       "267          0      1\n",
       "271          0      1\n",
       "284          0      1\n",
       "285         46      1\n",
       "311          0      1\n",
       "325          0      1\n",
       "⋮            ⋮      ⋮\n",
       "98316        0      1\n",
       "98323       33      1\n",
       "98352        0      1\n",
       "98357        0      1\n",
       "98367       19      1\n",
       "98370        0      1\n",
       "98394        0      1\n",
       "98395      103      1\n",
       "98396        0      1\n",
       "98400        0      1\n",
       "98430        0      1\n",
       "98431        0      1\n",
       "98432        0      1\n",
       "98445        0      1\n",
       "98447        4      1\n",
       "98451       25      1\n",
       "98462        2      1\n",
       "98477        4      1\n",
       "98479        0      1\n",
       "98498        0      1\n",
       "98511        3      1\n",
       "98526        1      1\n",
       "98532       21      1\n",
       "98542      144      1\n",
       "98543        0      1\n",
       "98585        0      1\n",
       "98603        0      1\n",
       "98604        0      1\n",
       "98616        0      1\n",
       "98617       70      1"
      ]
     },
     "metadata": {},
     "output_type": "display_data"
    }
   ],
   "source": [
    "pos_class <- given_data[given_data$status == 1,]"
   ]
  },
  {
   "cell_type": "code",
   "execution_count": 27,
   "metadata": {
    "collapsed": false
   },
   "outputs": [
    {
     "data": {
      "text/plain": [
       "       V1             asOfDate             hits            prevhits      \n",
       " Min.   :    225   Min.   :1-05-20    Min.   :      0   Min.   :      0  \n",
       " 1st Qu.: 261737   1st Qu.:8-05-20    1st Qu.:      0   1st Qu.:      0  \n",
       " Median : 513152   Median :14-08-20   Median :      0   Median :      0  \n",
       " Mean   : 509165   Mean   :15-12-20   Mean   :   7872   Mean   :   8128  \n",
       " 3rd Qu.: 754410   3rd Qu.:24-04-20   3rd Qu.:    262   3rd Qu.:    315  \n",
       " Max.   :1003967   Max.   :31-07-20   Max.   :4800925   Max.   :4938501  \n",
       "  currTickets       prevTickets       spamComplaints      currLogins     \n",
       " Min.   : 0.0000   Min.   :  0.0000   Min.   :   0.00   Min.   :   0.00  \n",
       " 1st Qu.: 0.0000   1st Qu.:  0.0000   1st Qu.:   0.00   1st Qu.:   0.00  \n",
       " Median : 0.0000   Median :  0.0000   Median :   0.00   Median :   2.00  \n",
       " Mean   : 0.3055   Mean   :  0.3634   Mean   :   1.98   Mean   :  12.66  \n",
       " 3rd Qu.: 0.0000   3rd Qu.:  0.0000   3rd Qu.:   0.00   3rd Qu.:   8.00  \n",
       " Max.   :93.0000   Max.   :113.0000   Max.   :1232.00   Max.   :1462.00  \n",
       "   prevLogins        broadcast4       BroadCasts100_4weeks BroadCasts20_4weeks\n",
       " Min.   :   0.00   Min.   :  0.0000   Min.   :  0.0000     Min.   :  0.0000   \n",
       " 1st Qu.:   0.00   1st Qu.:  0.0000   1st Qu.:  0.0000     1st Qu.:  0.0000   \n",
       " Median :   2.00   Median :  0.0000   Median :  0.0000     Median :  0.0000   \n",
       " Mean   :  16.47   Mean   :  0.7683   Mean   :  0.4584     Mean   :  0.5554   \n",
       " 3rd Qu.:  12.00   3rd Qu.:  0.0000   3rd Qu.:  0.0000     3rd Qu.:  0.0000   \n",
       " Max.   :6683.00   Max.   :260.0000   Max.   :216.0000     Max.   :219.0000   \n",
       " prevCamp10_4weeks   Camp2_4weeks     Camp100_4weeks     Camp20_4weeks     \n",
       " Min.   : 0.00000   Min.   : 0.0000   Min.   : 0.00000   Min.   : 0.00000  \n",
       " 1st Qu.: 0.00000   1st Qu.: 0.0000   1st Qu.: 0.00000   1st Qu.: 0.00000  \n",
       " Median : 0.00000   Median : 0.0000   Median : 0.00000   Median : 0.00000  \n",
       " Mean   : 0.09138   Mean   : 0.1621   Mean   : 0.05316   Mean   : 0.07993  \n",
       " 3rd Qu.: 0.00000   3rd Qu.: 0.0000   3rd Qu.: 0.00000   3rd Qu.: 0.00000  \n",
       " Max.   :25.00000   Max.   :40.0000   Max.   :19.00000   Max.   :22.00000  \n",
       " Contacts_4weeks    ActiveDistinctContacts   emailSent           Tasks         \n",
       " Min.   :     0.0   Min.   :     0.0       Min.   :      0   Min.   :    0.00  \n",
       " 1st Qu.:     0.0   1st Qu.:     0.0       1st Qu.:      0   1st Qu.:    0.00  \n",
       " Median :     0.0   Median :     0.0       Median :      1   Median :    0.00  \n",
       " Mean   :   345.2   Mean   :   383.5       Mean   :   4060   Mean   :   41.85  \n",
       " 3rd Qu.:     7.0   3rd Qu.:    12.0       3rd Qu.:     33   3rd Qu.:    0.00  \n",
       " Max.   :972376.0   Max.   :149862.0       Max.   :4785000   Max.   :33207.00  \n",
       "      Tags         Opportunities         WebForms            status \n",
       " Min.   :      0   Min.   :   0.000   Min.   :    0.00   Min.   :1  \n",
       " 1st Qu.:      0   1st Qu.:   0.000   1st Qu.:    0.00   1st Qu.:1  \n",
       " Median :      0   Median :   0.000   Median :    0.00   Median :1  \n",
       " Mean   :   1408   Mean   :   2.646   Mean   :   37.89   Mean   :1  \n",
       " 3rd Qu.:     13   3rd Qu.:   0.000   3rd Qu.:    2.00   3rd Qu.:1  \n",
       " Max.   :1223394   Max.   :3660.000   Max.   :40262.00   Max.   :1  "
      ]
     },
     "metadata": {},
     "output_type": "display_data"
    }
   ],
   "source": [
    "summary(pos_class)"
   ]
  },
  {
   "cell_type": "code",
   "execution_count": null,
   "metadata": {
    "collapsed": true
   },
   "outputs": [],
   "source": []
  },
  {
   "cell_type": "code",
   "execution_count": null,
   "metadata": {
    "collapsed": true
   },
   "outputs": [],
   "source": []
  }
 ],
 "metadata": {
  "kernelspec": {
   "display_name": "R",
   "language": "R",
   "name": "ir"
  },
  "language_info": {
   "codemirror_mode": "r",
   "file_extension": ".r",
   "mimetype": "text/x-r-source",
   "name": "R",
   "pygments_lexer": "r",
   "version": "3.3.1"
  }
 },
 "nbformat": 4,
 "nbformat_minor": 0
}
